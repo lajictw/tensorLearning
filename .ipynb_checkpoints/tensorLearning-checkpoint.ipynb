{
 "cells": [
  {
   "cell_type": "code",
   "execution_count": 1,
   "id": "8eacbe13",
   "metadata": {},
   "outputs": [],
   "source": [
    "import numpy as np\n",
    "\n",
    "import torch\n",
    "\n",
    "import matplotlib.pyplot as plt\n",
    "\n",
    "import torch.nn as nn\n",
    "\n",
    "from torchvision import datasets, transforms\n",
    "\n",
    "import torchvision\n"
   ]
  },
  {
   "cell_type": "markdown",
   "id": "77088ec1",
   "metadata": {},
   "source": [
    "Tensor creation from torch.tensor"
   ]
  },
  {
   "cell_type": "code",
   "execution_count": 3,
   "id": "f0036662",
   "metadata": {},
   "outputs": [
    {
     "name": "stdout",
     "output_type": "stream",
     "text": [
      "variable type of ndarray: float64\n",
      "t_gpu:tensor([[1., 1., 1.],\n",
      "        [1., 1., 1.],\n",
      "        [1., 1., 1.]], device='cuda:0', dtype=torch.float64)\n",
      "t:tensor([[1., 1., 1.],\n",
      "        [1., 1., 1.],\n",
      "        [1., 1., 1.]], dtype=torch.float64)\n"
     ]
    }
   ],
   "source": [
    "arr=np.ones((3,3))\n",
    "\n",
    "print(\"variable type of ndarray:\",arr.dtype)\n",
    "\n",
    "t_gpu=torch.tensor(arr,device='cuda')\n",
    "\n",
    "t=torch.tensor(arr)\n",
    "\n",
    "print(\"t_gpu:{}\\nt:{}\".format(t_gpu,t))"
   ]
  },
  {
   "cell_type": "markdown",
   "id": "875dc84a",
   "metadata": {},
   "source": [
    "Tensor creation from torch.from"
   ]
  },
  {
   "cell_type": "code",
   "execution_count": 4,
   "id": "2b9af81a",
   "metadata": {},
   "outputs": [
    {
     "name": "stdout",
     "output_type": "stream",
     "text": [
      "original output\n",
      "numpy array:  [[1 2 3]\n",
      " [4 5 6]]\n",
      "tensor:  tensor([[1, 2, 3],\n",
      "        [4, 5, 6]])\n",
      "change arr\n",
      "numpy array:  [[0 2 3]\n",
      " [4 5 6]]\n",
      "tensor:  tensor([[0, 2, 3],\n",
      "        [4, 5, 6]])\n",
      "change tensor\n",
      "numpy array:  [[10  2  3]\n",
      " [ 4  5  6]]\n",
      "tensor:  tensor([[10,  2,  3],\n",
      "        [ 4,  5,  6]])\n"
     ]
    }
   ],
   "source": [
    "arr=np.array([[1,2,3],[4,5,6]])\n",
    "t=torch.from_numpy(arr)\n",
    "print(\"original output\")\n",
    "print(\"numpy array: \",arr)\n",
    "print(\"tensor: \",t)\n",
    "\n",
    "print(\"change arr\")\n",
    "arr[0,0]=0\n",
    "print(\"numpy array: \",arr)\n",
    "print(\"tensor: \",t)\n",
    "\n",
    "print(\"change tensor\")\n",
    "t[0,0]=10\n",
    "print(\"numpy array: \",arr)\n",
    "print(\"tensor: \",t)\n"
   ]
  },
  {
   "cell_type": "markdown",
   "id": "b0eccd35",
   "metadata": {},
   "source": [
    "Tensor creation with numeric values"
   ]
  },
  {
   "cell_type": "code",
   "execution_count": 5,
   "id": "22497f1e",
   "metadata": {},
   "outputs": [
    {
     "name": "stdout",
     "output_type": "stream",
     "text": [
      "out_t: tensor([[0, 0, 0],\n",
      "        [0, 0, 0],\n",
      "        [0, 0, 0]]) \n",
      "t_zeros1: tensor([[0., 0., 0.],\n",
      "        [0., 0., 0.],\n",
      "        [0., 0., 0.]]) \n",
      "t_zeros2: tensor([[0, 0, 0],\n",
      "        [0, 0, 0],\n",
      "        [0, 0, 0]])\n",
      "memory address of t_zeros2 139935022317120 memory address of out_t: 139935022317120\n"
     ]
    }
   ],
   "source": [
    "out_t=torch.tensor([1])\n",
    "t_zeros1=torch.zeros((3,3))\n",
    "t_zeros2=torch.zeros((3,3),out=out_t)\n",
    "print(\"out_t:\",out_t,\"\\nt_zeros1:\",t_zeros1,\"\\nt_zeros2:\",t_zeros2)\n",
    "print(\"memory address of t_zeros2\",id(t_zeros2),\"memory address of out_t:\",id(out_t))"
   ]
  },
  {
   "cell_type": "markdown",
   "id": "07b37b66",
   "metadata": {},
   "source": [
    "Try tensor.zeros_like"
   ]
  },
  {
   "cell_type": "code",
   "execution_count": 6,
   "id": "5954d38c",
   "metadata": {},
   "outputs": [
    {
     "name": "stdout",
     "output_type": "stream",
     "text": [
      "t: tensor([[10,  2,  3],\n",
      "        [ 4,  5,  6]])\n",
      "t_zeros_like: tensor([[0, 0, 0],\n",
      "        [0, 0, 0]])\n"
     ]
    }
   ],
   "source": [
    "t_zeros_like=torch.zeros_like(t)\n",
    "print(\"t:\",t)\n",
    "print(\"t_zeros_like:\",t_zeros_like)"
   ]
  },
  {
   "cell_type": "markdown",
   "id": "57f7058e",
   "metadata": {},
   "source": [
    "create with probability"
   ]
  },
  {
   "cell_type": "code",
   "execution_count": 7,
   "id": "10fc35a9",
   "metadata": {},
   "outputs": [
    {
     "name": "stdout",
     "output_type": "stream",
     "text": [
      "t_arrange1: tensor([ 1,  4,  7, 10])\n",
      "t_arrange1: tensor([1, 3, 5, 7, 9])\n"
     ]
    }
   ],
   "source": [
    "t_arrange1=torch.arange(1,11,3)\n",
    "print(\"t_arrange1:\",t_arrange1)\n",
    "t_arrange2=torch.arange(1,11,2)\n",
    "print(\"t_arrange1:\",t_arrange2)"
   ]
  },
  {
   "cell_type": "markdown",
   "id": "1805682e",
   "metadata": {},
   "source": [
    "create with linspace"
   ]
  },
  {
   "cell_type": "code",
   "execution_count": 8,
   "id": "2206843a",
   "metadata": {},
   "outputs": [
    {
     "name": "stdout",
     "output_type": "stream",
     "text": [
      "t_linspace1: tensor([  1.0000,  50.5000, 100.0000])\n"
     ]
    }
   ],
   "source": [
    "t_linspace1=torch.linspace(1,100,3)\n",
    "print(\"t_linspace1:\",t_linspace1)\n"
   ]
  },
  {
   "cell_type": "markdown",
   "id": "2d474c74",
   "metadata": {},
   "source": [
    "create with logspace"
   ]
  },
  {
   "cell_type": "code",
   "execution_count": 9,
   "id": "f72117a9",
   "metadata": {},
   "outputs": [
    {
     "name": "stdout",
     "output_type": "stream",
     "text": [
      "t_logspace1: tensor([ 1.2589,  2.1135,  3.5481,  5.9566, 10.0000])\n",
      "t_logspace2: tensor([ 4., 16., 64.])\n"
     ]
    }
   ],
   "source": [
    "t_logspace1=torch.logspace(start=0.1,end=1.0,steps=5)\n",
    "print(\"t_logspace1:\",t_logspace1)\n",
    "\n",
    "t_logspace2=torch.logspace(start=2,end=6,steps=3,base=2)\n",
    "print(\"t_logspace2:\",t_logspace2)\n"
   ]
  },
  {
   "cell_type": "markdown",
   "id": "d574a9c4",
   "metadata": {},
   "source": [
    "create with eye"
   ]
  },
  {
   "cell_type": "code",
   "execution_count": 10,
   "id": "cb347ab4",
   "metadata": {},
   "outputs": [
    {
     "name": "stdout",
     "output_type": "stream",
     "text": [
      "t_eye1: tensor([[1., 0.],\n",
      "        [0., 1.]])\n",
      "t_eye2: tensor([[1., 0., 0.],\n",
      "        [0., 1., 0.]])\n",
      "t_eye3: tensor([[1.],\n",
      "        [0.]])\n"
     ]
    }
   ],
   "source": [
    "t_eye1=torch.eye(2)\n",
    "print(\"t_eye1:\",t_eye1)\n",
    "t_eye2=torch.eye(2,m=3)\n",
    "print(\"t_eye2:\",t_eye2)\n",
    "t_eye3=torch.eye(2,m=1)\n",
    "print(\"t_eye3:\",t_eye3)\n",
    "\n",
    "\n"
   ]
  },
  {
   "cell_type": "markdown",
   "id": "3e92a3f1",
   "metadata": {},
   "source": [
    "create with torch.normal"
   ]
  },
  {
   "cell_type": "code",
   "execution_count": 11,
   "id": "28df19ec",
   "metadata": {},
   "outputs": [
    {
     "name": "stdout",
     "output_type": "stream",
     "text": [
      "both tensor\n",
      "mean: tensor([1., 2., 3., 4.]) std tensor([1., 2., 3., 4.])\n",
      "tensor([-0.0835,  1.2389,  3.4019,  6.0816])\n",
      "t_normal3: tensor([-0.7236, -0.1122,  1.2378,  1.5338])\n",
      "t_normal4: tensor([0.0912, 1.2405, 3.7386, 4.8725])\n",
      "t_normal5: tensor([ 0.8876,  0.8422, -1.6846,  1.8306])\n"
     ]
    }
   ],
   "source": [
    "# both tensor\n",
    "\n",
    "# need to declare type, long not supported\n",
    "mean=torch.arange(1,5,dtype=torch.float)\n",
    "std=torch.arange(1,5,dtype=torch.float)\n",
    "t_normal1=torch.normal(mean,std)\n",
    "print(\"both tensor\")\n",
    "print(\"mean:\",mean,\"std\",std)\n",
    "print(t_normal1)\n",
    "\n",
    "# both scalar\n",
    "\n",
    "# t_normal2=torch.normal(0,1)\n",
    "# print(\"t_normal2:\",t_normal2)\n",
    "\n",
    "# when both scalar, size needed\n",
    "\n",
    "# t_normal3=torch.normal(0,1,size=4)\n",
    "# print(\"t_normal3:\",t_normal3)\n",
    "\n",
    "# size need to be tuple\n",
    "\n",
    "t_normal3=torch.normal(0,1,size=(4,))\n",
    "print(\"t_normal3:\",t_normal3)\n",
    "\n",
    "# std scalar, mean tensor\n",
    "t_normal4=torch.normal(mean,1)\n",
    "print(\"t_normal4:\",t_normal4)\n",
    "\n",
    "# std tensor, mean scalar\n",
    "t_normal5=torch.normal(0,std)\n",
    "print(\"t_normal5:\",t_normal5)\n"
   ]
  },
  {
   "cell_type": "markdown",
   "id": "56795ae3",
   "metadata": {},
   "source": [
    "create with rand/randn"
   ]
  },
  {
   "cell_type": "code",
   "execution_count": 12,
   "id": "943030f6",
   "metadata": {},
   "outputs": [
    {
     "name": "stdout",
     "output_type": "stream",
     "text": [
      "t_rand: tensor([[0.2669, 0.9708, 0.1873],\n",
      "        [0.4312, 0.5337, 0.0377]])\n",
      "t_randn: tensor([[-0.8886, -0.6943,  0.7431],\n",
      "        [ 0.2563,  0.2272,  0.5342]])\n"
     ]
    }
   ],
   "source": [
    "t_rand=torch.rand(2,3)\n",
    "t_randn=torch.randn(2,3)\n",
    "print(\"t_rand:\",t_rand)\n",
    "print(\"t_randn:\",t_randn)\n"
   ]
  },
  {
   "cell_type": "markdown",
   "id": "5b9e82b1",
   "metadata": {},
   "source": [
    "torch cat"
   ]
  },
  {
   "cell_type": "code",
   "execution_count": 15,
   "id": "8b573664",
   "metadata": {},
   "outputs": [
    {
     "name": "stdout",
     "output_type": "stream",
     "text": [
      "t_cat1: tensor([[ 0.2669,  0.9708,  0.1873],\n",
      "        [ 0.4312,  0.5337,  0.0377],\n",
      "        [-0.8886, -0.6943,  0.7431],\n",
      "        [ 0.2563,  0.2272,  0.5342]]) \n",
      "t_cat2: tensor([[ 0.2669,  0.9708,  0.1873, -0.8886, -0.6943,  0.7431],\n",
      "        [ 0.4312,  0.5337,  0.0377,  0.2563,  0.2272,  0.5342]])\n"
     ]
    }
   ],
   "source": [
    "t_cat1=torch.cat([t_rand,t_randn],dim=0)\n",
    "t_cat2=torch.cat([t_rand,t_randn],dim=1)\n",
    "print(\"t_cat1:\",t_cat1,\"\\nt_cat2:\",t_cat2)"
   ]
  },
  {
   "cell_type": "markdown",
   "id": "e02759e1",
   "metadata": {},
   "source": [
    "torch stack"
   ]
  },
  {
   "cell_type": "code",
   "execution_count": 18,
   "id": "d7c2465b",
   "metadata": {},
   "outputs": [
    {
     "name": "stdout",
     "output_type": "stream",
     "text": [
      "t_stack1:tensor([[[ 0.2669,  0.9708,  0.1873],\n",
      "         [-0.8886, -0.6943,  0.7431]],\n",
      "\n",
      "        [[ 0.4312,  0.5337,  0.0377],\n",
      "         [ 0.2563,  0.2272,  0.5342]]]) \n",
      "shape:torch.Size([2, 2, 3])\n",
      "\n",
      "t_stack2:tensor([[[ 0.2669, -0.8886],\n",
      "         [ 0.9708, -0.6943],\n",
      "         [ 0.1873,  0.7431]],\n",
      "\n",
      "        [[ 0.4312,  0.2563],\n",
      "         [ 0.5337,  0.2272],\n",
      "         [ 0.0377,  0.5342]]]) \n",
      "shape:torch.Size([2, 3, 2])\n"
     ]
    }
   ],
   "source": [
    "t_stack1=torch.stack([t_rand,t_randn],dim=1)\n",
    "t_stack2=torch.stack([t_rand,t_randn],dim=2)\n",
    "\n",
    "# Dimension out of range (expected to be in range of [-3, 2], but got 3)\n",
    "# t_stack3=torch.stack([t_rand,t_randn],dim=3)\n",
    "print(\"t_stack1:{} \\nshape:{}\".format(t_stack1,t_stack1.shape))\n",
    "print(\"\\nt_stack2:{} \\nshape:{}\".format(t_stack2,t_stack2.shape))"
   ]
  },
  {
   "cell_type": "markdown",
   "id": "0e2cebc3",
   "metadata": {},
   "source": [
    "tensor chunks"
   ]
  },
  {
   "cell_type": "code",
   "execution_count": 20,
   "id": "47fb7279",
   "metadata": {},
   "outputs": [
    {
     "name": "stdout",
     "output_type": "stream",
     "text": [
      "\n",
      " tensor([[0.2669, 0.9708],\n",
      "        [0.4312, 0.5337]]) shape: torch.Size([2, 2])\n",
      "\n",
      " tensor([[0.1873],\n",
      "        [0.0377]]) shape: torch.Size([2, 1])\n",
      "\n",
      " tensor([[0.2669, 0.9708, 0.1873]]) shape: torch.Size([1, 3])\n",
      "\n",
      " tensor([[0.4312, 0.5337, 0.0377]]) shape: torch.Size([1, 3])\n"
     ]
    }
   ],
   "source": [
    "tensor_chunk_list1=torch.chunk(t_rand,dim=1,chunks=2)\n",
    "tensor_chunk_list2=torch.chunk(t_rand,dim=0,chunks=3)\n",
    "for tl1 in tensor_chunk_list1:\n",
    "    print(\"\\n\",tl1,\"shape:\",tl1.shape)\n",
    "for tl2 in tensor_chunk_list2:\n",
    "    print(\"\\n\",tl2,\"shape:\",tl2.shape)"
   ]
  },
  {
   "cell_type": "markdown",
   "id": "403e6e27",
   "metadata": {},
   "source": [
    "tensor split"
   ]
  },
  {
   "cell_type": "code",
   "execution_count": 21,
   "id": "91d8407e",
   "metadata": {},
   "outputs": [
    {
     "name": "stdout",
     "output_type": "stream",
     "text": [
      "\n",
      " tensor([[0.2669, 0.9708],\n",
      "        [0.4312, 0.5337]]) shape: torch.Size([2, 2])\n",
      "\n",
      " tensor([[0.1873],\n",
      "        [0.0377]]) shape: torch.Size([2, 1])\n",
      "\n",
      " tensor([[0.2669],\n",
      "        [0.4312]]) shape: torch.Size([2, 1])\n",
      "\n",
      " tensor([[0.9708, 0.1873],\n",
      "        [0.5337, 0.0377]]) shape: torch.Size([2, 2])\n"
     ]
    }
   ],
   "source": [
    "tensor_split_list1=torch.split(t_rand,2,dim=1)\n",
    "tensor_split_list2=torch.split(t_rand,[1,2],dim=1)\n",
    "for tl1 in tensor_split_list1:\n",
    "    print(\"\\n\",tl1,\"shape:\",tl1.shape)\n",
    "for tl2 in tensor_split_list2:\n",
    "    print(\"\\n\",tl2,\"shape:\",tl2.shape)"
   ]
  },
  {
   "cell_type": "markdown",
   "id": "f24d596b",
   "metadata": {},
   "source": [
    "linear regression"
   ]
  },
  {
   "cell_type": "code",
   "execution_count": 2,
   "id": "d89059cb",
   "metadata": {},
   "outputs": [
    {
     "data": {
      "image/png": "[encoded data removed]",
      "text/plain": [
       "<Figure size 432x288 with 1 Axes>"
      ]
     },
     "metadata": {
      "needs_background": "light"
     },
     "output_type": "display_data"
    },
    {
     "name": "stdout",
     "output_type": "stream",
     "text": [
      "torch.Size([300, 1])\n"
     ]
    }
   ],
   "source": [
    "def create_linear_data(nums_data, if_plot= False):\n",
    "    \"\"\"\n",
    "    Create data for linear model\n",
    "    Args:\n",
    "        nums_data: how many data points that wanted\n",
    "    Returns:\n",
    "        x with shape (nums_data, 1)\n",
    "    \"\"\"\n",
    "    x = torch.linspace(0,1,nums_data)\n",
    "    x = torch.unsqueeze(x,dim=1)\n",
    "    k = 2\n",
    "    y = k * x + torch.rand(x.size())\n",
    "    \n",
    "    if if_plot:\n",
    "        plt.scatter(x.numpy(),y.numpy(),c=x.numpy())\n",
    "        plt.show()\n",
    "    data = {\"x\":x, \"y\":y}\n",
    "    return data\n",
    "\n",
    "data = create_linear_data(300, if_plot=True)\n",
    "print(data[\"x\"].size())"
   ]
  },
  {
   "cell_type": "code",
   "execution_count": 3,
   "id": "67b78749",
   "metadata": {},
   "outputs": [
    {
     "name": "stdout",
     "output_type": "stream",
     "text": [
      "LinearRegression(\n",
      "  (linear): Linear(in_features=1, out_features=1, bias=True)\n",
      ")\n"
     ]
    }
   ],
   "source": [
    "class LinearRegression(torch.nn.Module):\n",
    "    def __init__(self):\n",
    "#         Call the parent class constructor to ensure that the program runs properly\n",
    "        super().__init__()\n",
    "#     Both input features and output features are 1\n",
    "        self.linear = torch.nn.Linear(1,1)\n",
    "#     This method is called when the class is called. \n",
    "#    The method name must be forward, and the return value of the method must have the same dimension as the output feature\n",
    "    def forward(self,x):\n",
    "#         predict x\n",
    "        out=self.linear(x)\n",
    "        return out\n",
    "linear=LinearRegression()\n",
    "print(linear)\n",
    "        "
   ]
  },
  {
   "cell_type": "code",
   "execution_count": 11,
   "id": "c4151b0c",
   "metadata": {},
   "outputs": [],
   "source": [
    "class Linear_Model():\n",
    "    def __init__(self):\n",
    "        self.learning_rate=0.02\n",
    "        self.epoches=8000\n",
    "        self.loss_function=torch.nn.MSELoss()\n",
    "        self.create_model()\n",
    "    def create_model(self):\n",
    "        self.model=LinearRegression()\n",
    "        self.optimizer=torch.optim.SGD(self.model.parameters(),lr=self.learning_rate)\n",
    "    def train(self,data):\n",
    "        x=data[\"x\"]\n",
    "        y=data[\"y\"]\n",
    "        for epoch in range(self.epoches):\n",
    "            prediction=self.model(x)\n",
    "            loss=self.loss_function(prediction,y)\n",
    "#             The gradient needs to be zeroed at the beginning of each iteration \n",
    "#             in order to calculate the gradient for the current iteration.\n",
    "            self.optimizer.zero_grad()\n",
    "#     Calculate the gradient of the loss function with respect to the model parameters\n",
    "            loss.backward()\n",
    "#     Update the model parameters according to the calculated gradient\n",
    "            self.optimizer.step()\n",
    "            if epoch%500==0:\n",
    "                print(\"epoch:{},loss is:{}\".format(epoch,loss.item()))\n",
    "#             Save model parameters only\n",
    "            torch.save(self.model.state_dict(),\"./linearRegression/epoch\"+str(epoch))\n",
    "    def test(self,x,model_path):\n",
    "        x=data[\"x\"]\n",
    "        y=data[\"y\"]\n",
    "        self.model.load_state_dict(torch.load(model_path))\n",
    "        prediction=self.model(x)\n",
    "        plt.scatter(x.numpy(),y.numpy(),c=x.numpy())\n",
    "        plt.plot(x.numpy(),prediction.detach().numpy(),c=\"r\")\n",
    "        plt.show()\n",
    "    def compare_epoches(self,data):\n",
    "        x=data[\"x\"]\n",
    "        y=data[\"y\"]\n",
    "        num_pic=8\n",
    "        current_fig=0\n",
    "        for epoch in range(self.epoches):\n",
    "            if epoch % (self.epoches/num_pic)==0:\n",
    "                self.model.load_state_dict(torch.load(\"./linearRegression/epoch\"+str(epoch)))\n",
    "                prediction=self.model(x)\n",
    "                current_fig+=1\n",
    "                plt.subplot(4,2,current_fig)\n",
    "                plt.scatter(x.numpy(),y.numpy(),c=x.numpy())\n",
    "                plt.plot(x.numpy(),prediction.detach().numpy(),c=\"r\")\n",
    "        plt.show()\n",
    "        "
   ]
  },
  {
   "cell_type": "code",
   "execution_count": 12,
   "id": "32aeba06",
   "metadata": {},
   "outputs": [
    {
     "name": "stdout",
     "output_type": "stream",
     "text": [
      "epoch:0,loss is:1.154018759727478\n",
      "epoch:500,loss is:0.08935971558094025\n",
      "epoch:1000,loss is:0.08717039227485657\n",
      "epoch:1500,loss is:0.08702113479375839\n",
      "epoch:2000,loss is:0.087010957300663\n",
      "epoch:2500,loss is:0.08701024949550629\n",
      "epoch:3000,loss is:0.0870102122426033\n",
      "epoch:3500,loss is:0.0870102122426033\n",
      "epoch:4000,loss is:0.0870102122426033\n",
      "epoch:4500,loss is:0.0870102122426033\n",
      "epoch:5000,loss is:0.0870102122426033\n",
      "epoch:5500,loss is:0.0870102122426033\n",
      "epoch:6000,loss is:0.0870102122426033\n",
      "epoch:6500,loss is:0.0870102122426033\n",
      "epoch:7000,loss is:0.0870102122426033\n",
      "epoch:7500,loss is:0.0870102122426033\n"
     ]
    }
   ],
   "source": [
    "linear = Linear_Model()\n",
    "data = create_linear_data(100)\n",
    "linear.train(data)"
   ]
  },
  {
   "cell_type": "code",
   "execution_count": 13,
   "id": "1562f16e",
   "metadata": {},
   "outputs": [
    {
     "data": {
      "image/png": "[encoded data removed]",
      "text/plain": [
       "<Figure size 432x288 with 8 Axes>"
      ]
     },
     "metadata": {
      "needs_background": "light"
     },
     "output_type": "display_data"
    }
   ],
   "source": [
    "linear.compare_epoches(data)"
   ]
  },
  {
   "cell_type": "markdown",
   "id": "ef01648a",
   "metadata": {},
   "source": [
    "MLP"
   ]
  },
  {
   "cell_type": "code",
   "execution_count": 6,
   "id": "7f54619d",
   "metadata": {},
   "outputs": [
    {
     "name": "stdout",
     "output_type": "stream",
     "text": [
      "epoch: 0 ,loss is: 0.9859086275100708\n",
      "epoch: 100 ,loss is: 0.07149328291416168\n",
      "epoch: 200 ,loss is: 0.0009832008508965373\n",
      "epoch: 300 ,loss is: 5.608582341665169e-06\n",
      "epoch: 400 ,loss is: 1.0789385385123751e-08\n"
     ]
    }
   ],
   "source": [
    "N=64\n",
    "dataIn=1000\n",
    "hiddenLayer=100\n",
    "dataOut=10\n",
    "x=torch.randn(N,dataIn)\n",
    "y=torch.randn(N,dataOut)\n",
    "class MLP(torch.nn.Module):\n",
    "    def __init__(self,dataIn,hiddenLayer,dataOut):\n",
    "        super().__init__()\n",
    "        self.linear1=nn.Linear(dataIn,hiddenLayer,bias=False)\n",
    "        self.relu=nn.ReLU()\n",
    "        self.linear2=nn.Linear(hiddenLayer,dataOut,bias=False)\n",
    "    def forward(self,x):\n",
    "        y_pred=self.linear2(self.relu(self.linear1(x)))\n",
    "        return y_pred\n",
    "MLPmodel=MLP(dataIn,hiddenLayer,dataOut)\n",
    "loss_function=nn.MSELoss()\n",
    "learning_rate=1e-4\n",
    "optimizer=torch.optim.Adam(MLPmodel.parameters(),lr=learning_rate)\n",
    "for epoch in range(500):\n",
    "    y_pred=MLPmodel(x)\n",
    "    loss=loss_function(y_pred,y)\n",
    "    loss.backward()\n",
    "    optimizer.step()\n",
    "    optimizer.zero_grad()\n",
    "    if epoch%100==0:\n",
    "        print(\"epoch:\",epoch,\",loss is:\",loss.item())"
   ]
  },
  {
   "cell_type": "markdown",
   "id": "d11f2f51",
   "metadata": {},
   "source": [
    "softmax"
   ]
  },
  {
   "cell_type": "code",
   "execution_count": 2,
   "id": "10e9544b",
   "metadata": {},
   "outputs": [
    {
     "name": "stderr",
     "output_type": "stream",
     "text": [
      "/opt/conda/lib/python3.9/site-packages/torchvision/datasets/mnist.py:498: UserWarning: The given NumPy array is not writeable, and PyTorch does not support non-writeable tensors. This means you can write to the underlying (supposedly non-writeable) NumPy array using the tensor. You may want to copy the array to protect its data or make it writeable before converting it to a tensor. This type of warning will be suppressed for the rest of this program. (Triggered internally at  /pytorch/torch/csrc/utils/tensor_numpy.cpp:180.)\n",
      "  return torch.from_numpy(parsed.astype(m[2], copy=False)).view(*s)\n"
     ]
    }
   ],
   "source": [
    "# dataset preparation\n",
    "batch_size=64\n",
    "train_dataset=datasets.MNIST(root='./mnist_data',train=False,transform=transforms.ToTensor(),download=True)\n",
    "test_dataset=datasets.MNIST(root='./mnist_data',train=False,transform=transforms.ToTensor())\n",
    "train_loader=torch.utils.data.DataLoader(dataset=train_dataset,batch_size=batch_size,shuffle=True)\n",
    "test_loader=torch.utils.data.DataLoader(dataset=test_dataset,batch_size=batch_size,shuffle=False)"
   ]
  },
  {
   "cell_type": "code",
   "execution_count": 33,
   "id": "91268ee9",
   "metadata": {},
   "outputs": [
    {
     "name": "stdout",
     "output_type": "stream",
     "text": [
      "device: cuda\n",
      "Train epoch: 0 ,loss: 0.32044947147369385\n",
      "\n",
      "Test set average loss:0.0049\n",
      "Train epoch: 1 ,loss: 0.17431554198265076\n",
      "\n",
      "Test set average loss:0.0037\n",
      "Train epoch: 2 ,loss: 0.07786283642053604\n",
      "\n",
      "Test set average loss:0.0031\n",
      "Train epoch: 3 ,loss: 0.07204136252403259\n",
      "\n",
      "Test set average loss:0.0026\n",
      "Train epoch: 4 ,loss: 0.07465073466300964\n",
      "\n",
      "Test set average loss:0.0023\n",
      "Train epoch: 5 ,loss: 0.21050934493541718\n",
      "\n",
      "Test set average loss:0.0020\n",
      "Train epoch: 6 ,loss: 0.03415130823850632\n",
      "\n",
      "Test set average loss:0.0019\n",
      "Train epoch: 7 ,loss: 0.023799166083335876\n",
      "\n",
      "Test set average loss:0.0018\n",
      "Train epoch: 8 ,loss: 0.009239327162504196\n",
      "\n",
      "Test set average loss:0.0017\n",
      "Train epoch: 9 ,loss: 0.16119284927845\n",
      "\n",
      "Test set average loss:0.0016\n"
     ]
    }
   ],
   "source": [
    "from torch.autograd import Variable\n",
    "class softmaxNet(nn.Module):\n",
    "    def __init__(self):\n",
    "        super().__init__()\n",
    "        self.linear1=nn.Linear(784,512)\n",
    "        self.relu=nn.ReLU()\n",
    "        self.linear2=nn.Linear(512,128)\n",
    "        self.linear3=nn.Linear(128,32)\n",
    "        self.linear4=nn.Linear(32,10)\n",
    "        self.LogSoftmax = nn.LogSoftmax(dim=1)\n",
    "    def forward(self,x):\n",
    "#         -1 means inferred using numbers in other positions, similar to a wildcard\n",
    "        x=x.view(-1,784)\n",
    "        x=self.relu(self.linear1(x))\n",
    "        x=self.relu(self.linear2(x))\n",
    "        x=self.relu(self.linear3(x))\n",
    "#         return nn.Softmax(x)\n",
    "        return self.LogSoftmax(self.linear4(x))\n",
    "\n",
    "device = torch.device(\"cuda\" if torch.cuda.is_available() else \"cpu\")\n",
    "print(\"device:\",device)\n",
    "\n",
    "softmaxModel=softmaxNet().to(device)\n",
    "\n",
    "# softmaxModel.to(device)\n",
    "# loss_function=nn.MSELoss()\n",
    "loss_function=nn.NLLLoss()\n",
    "learning_rate=1e-4\n",
    "optimizer=torch.optim.Adam(softmaxModel.parameters(),lr=learning_rate)\n",
    "def train(epoch):\n",
    "    for batch_idx, (data,target) in enumerate(train_loader):\n",
    "#         data,target=Variable(data),Variable(target)\n",
    "        data = data.to(device=device)\n",
    "        target = target.to(device=device)\n",
    "        y_pred=softmaxModel(data)\n",
    "        loss=loss_function(y_pred,target)\n",
    "        loss.backward()\n",
    "        optimizer.step()\n",
    "        optimizer.zero_grad()\n",
    "    print(\"Train epoch:\",epoch,\",loss:\",loss.item())\n",
    "def test():\n",
    "    test_loss=0\n",
    "    correct=0\n",
    "    for data, target in test_loader:\n",
    "#         data,target = Variable(data,violate=True),Variable(target)\n",
    "        data = data.to(device=device)\n",
    "        target = target.to(device=device)\n",
    "        y_pred=softmaxModel(data)\n",
    "#         test_loss+=nn.NLLLoss(y_pred,target).item()\n",
    "        test_loss+=loss_function(y_pred,target)\n",
    "#         max index\n",
    "        pred=torch.argmax(y_pred,dim=1)\n",
    "        correct+=pred.eq(target.data.view_as(pred)).sum()\n",
    "    total_test_lost=test_loss/len(test_loader.dataset)\n",
    "#     print(\"\\nTest set average loss\",test_loss)\n",
    "    print(\"\\nTest set average loss:{:.4f}\".format(total_test_lost))\n",
    "for epoch in range(0,10):\n",
    "    train(epoch)\n",
    "    test()"
   ]
  },
  {
   "cell_type": "markdown",
   "id": "66226896",
   "metadata": {},
   "source": [
    "CNN"
   ]
  },
  {
   "cell_type": "code",
   "execution_count": 48,
   "id": "8a82a927",
   "metadata": {},
   "outputs": [
    {
     "name": "stdout",
     "output_type": "stream",
     "text": [
      "device: cuda\n",
      "epoch= 0 Loss=0.0361\n",
      "Test set average loss:0.0363\n",
      "epoch= 1 Loss=0.0361\n",
      "Test set average loss:0.0363\n",
      "epoch= 2 Loss=0.0361\n",
      "Test set average loss:0.0363\n",
      "epoch= 3 Loss=0.0361\n",
      "Test set average loss:0.0363\n",
      "epoch= 4 Loss=0.0361\n",
      "Test set average loss:0.0363\n",
      "epoch= 5 Loss=0.0361\n",
      "Test set average loss:0.0363\n",
      "epoch= 6 Loss=0.0361\n",
      "Test set average loss:0.0363\n",
      "epoch= 7 Loss=0.0361\n",
      "Test set average loss:0.0363\n",
      "epoch= 8 Loss=0.0361\n",
      "Test set average loss:0.0363\n",
      "epoch= 9 Loss=0.0361\n",
      "Test set average loss:0.0363\n"
     ]
    }
   ],
   "source": [
    "class CNN(nn.Module):\n",
    "    def __init__(self):\n",
    "        super().__init__()\n",
    "#         The input channel is 1 for monochrome pictures and 3 for color pictures.\n",
    "        self.conv1=nn.Conv2d(in_channels=1,out_channels=4,kernel_size=2,stride=1,padding=1)\n",
    "        self.conv2=nn.Conv2d(in_channels=4,out_channels=16,kernel_size=2,stride=1,padding=1)\n",
    "        self.relu=nn.ReLU()\n",
    "        self.pool=nn.MaxPool2d(kernel_size=2)\n",
    "#         self.linear=nn.Linear(16*25*25,10)\n",
    "        self.linear=nn.Linear(16*7*7,10)\n",
    "        self.LogSoftmax = nn.LogSoftmax(dim=1)\n",
    "    def forward(self,x):\n",
    "        x=self.pool(self.relu(self.conv1(x)))\n",
    "        x=self.pool(self.relu(self.conv2(x)))\n",
    "# Testing the output dimension of the convolutional layer\n",
    "#         print(x.size())        \n",
    "\n",
    "#         Adjust the shape of the tensor, x.size(0) means keep the first dimension unchanged, \n",
    "#         -1 means calculate the remaining dimension automatically. \n",
    "#         It performs a flattening operation to convert the multidimensional tensor output by x from the convolution layer \n",
    "#         to a one-dimensional tensor for input to the fully connected layer.\n",
    "\n",
    "        x = x.view(x.size(0), -1)  \n",
    "#         print(x.size())\n",
    "        x=self.linear(x)\n",
    "        return self.LogSoftmax(x)\n",
    "device = torch.device(\"cuda\" if torch.cuda.is_available() else \"cpu\")\n",
    "print(\"device:\",device)\n",
    "\n",
    "CNNModel=CNN().to(device)\n",
    "\n",
    "# softmaxModel.to(device)\n",
    "# loss_function=nn.MSELoss()\n",
    "loss_function=nn.NLLLoss()\n",
    "learning_rate=1e-4\n",
    "optimizer=torch.optim.Adam(softmaxModel.parameters(),lr=learning_rate)\n",
    "def CNNtrain(epoch):\n",
    "    total_loss=0\n",
    "    for data,target in train_loader:\n",
    "        data = data.to(device=device)\n",
    "        target = target.to(device=device)\n",
    "        CNNModel.train()\n",
    "        y_pred=CNNModel(data)\n",
    "        loss=loss_function(y_pred,target)\n",
    "        total_loss=total_loss+loss\n",
    "        loss.backward()\n",
    "        optimizer.step()\n",
    "        optimizer.zero_grad()\n",
    "    print(\"epoch=\",epoch,\"Loss={:.4f}\".format(total_loss/len(train_loader.dataset)))\n",
    "def CNNtest():\n",
    "    test_loss=0\n",
    "    correct=0\n",
    "    for data,target in test_loader:\n",
    "        data = data.to(device=device)\n",
    "        target = target.to(device=device)\n",
    "        y_pred=CNNModel(data)\n",
    "        test_loss+=loss_function(y_pred,target)\n",
    "#         max index\n",
    "        pred=torch.argmax(y_pred,dim=1)\n",
    "        correct+=pred.eq(target.data.view_as(pred)).sum()\n",
    "    total_test_lost=test_loss/len(test_loader.dataset)\n",
    "#     print(\"\\nTest set average loss\",test_loss)\n",
    "    print(\"Test set average loss:{:.4f}\".format(total_test_lost))\n",
    "for epoch in range(0,10):\n",
    "    CNNtrain(epoch)\n",
    "    CNNtest()"
   ]
  },
  {
   "cell_type": "markdown",
   "id": "ed906b0d",
   "metadata": {},
   "source": [
    "Exercise： AlexNet(modern CNN)"
   ]
  },
  {
   "cell_type": "code",
   "execution_count": 2,
   "id": "26971869",
   "metadata": {},
   "outputs": [
    {
     "name": "stderr",
     "output_type": "stream",
     "text": [
      "/opt/conda/lib/python3.9/site-packages/torchvision/datasets/mnist.py:498: UserWarning: The given NumPy array is not writeable, and PyTorch does not support non-writeable tensors. This means you can write to the underlying (supposedly non-writeable) NumPy array using the tensor. You may want to copy the array to protect its data or make it writeable before converting it to a tensor. This type of warning will be suppressed for the rest of this program. (Triggered internally at  /pytorch/torch/csrc/utils/tensor_numpy.cpp:180.)\n",
      "  return torch.from_numpy(parsed.astype(m[2], copy=False)).view(*s)\n"
     ]
    }
   ],
   "source": [
    "batch_size=64\n",
    "resize=224\n",
    "trans = []\n",
    "trans.append(torchvision.transforms.Resize(size=resize))\n",
    "trans.append(torchvision.transforms.ToTensor())\n",
    "transform = torchvision.transforms.Compose(trans)\n",
    "\n",
    "# tr_FM=datasets.FashionMNIST(root='./fashion_mnist',train=True,transform=transforms.ToTensor())\n",
    "# test_FM=datasets.FashionMNIST(root='./fashion_mnist',train=False,transform=transforms.ToTensor())\n",
    "\n",
    "tr_FM=datasets.FashionMNIST(root='./fashion_mnist',train=True,transform=transform)\n",
    "test_FM=datasets.FashionMNIST(root='./fashion_mnist',train=False,transform=transform)\n",
    "\n",
    "# train_dataset=datasets.MNIST(root='./mnist_data',train=True,transform=transforms.ToTensor(),download=True)\n",
    "# test_dataset=datasets.MNIST(root='./mnist_data',train=False,transform=transforms.ToTensor())\n",
    "train_loader_FM=torch.utils.data.DataLoader(dataset=tr_FM,batch_size=batch_size,shuffle=True)\n",
    "test_loader_FM=torch.utils.data.DataLoader(dataset=test_FM,batch_size=batch_size,shuffle=False)"
   ]
  },
  {
   "cell_type": "code",
   "execution_count": 3,
   "id": "7e17833f",
   "metadata": {},
   "outputs": [],
   "source": [
    "torch.cuda.empty_cache()"
   ]
  },
  {
   "cell_type": "code",
   "execution_count": 4,
   "id": "19f1a2cb",
   "metadata": {},
   "outputs": [
    {
     "name": "stdout",
     "output_type": "stream",
     "text": [
      "device: cuda\n"
     ]
    },
    {
     "name": "stderr",
     "output_type": "stream",
     "text": [
      "/opt/conda/lib/python3.9/site-packages/torch/nn/functional.py:718: UserWarning: Named tensors and all their associated APIs are an experimental feature and subject to change. Please do not use them for anything important until they are released as stable. (Triggered internally at  /pytorch/c10/core/TensorImpl.h:1156.)\n",
      "  return torch.max_pool2d(input, kernel_size, stride, padding, dilation, ceil_mode)\n"
     ]
    },
    {
     "name": "stdout",
     "output_type": "stream",
     "text": [
      "epoch= 0\n",
      "Test set average loss:-0.0002\n",
      "epoch= 1\n",
      "Test set average loss:-0.0003\n",
      "epoch= 2\n",
      "Test set average loss:-0.0004\n",
      "epoch= 3\n",
      "Test set average loss:-0.0005\n",
      "epoch= 4\n",
      "Test set average loss:-0.0006\n",
      "epoch= 5\n",
      "Test set average loss:-0.0007\n",
      "epoch= 6\n",
      "Test set average loss:-0.0008\n",
      "epoch= 7\n",
      "Test set average loss:-0.0009\n",
      "epoch= 8\n",
      "Test set average loss:-0.0011\n",
      "epoch= 9\n",
      "Test set average loss:-0.0012\n"
     ]
    }
   ],
   "source": [
    "class AlexNet(nn.Module):\n",
    "    def __init__(self):\n",
    "        super().__init__()\n",
    "#         The input channel is 1 for monochrome pictures and 3 for color pictures.\n",
    "        self.conv1=nn.Conv2d(in_channels=1,out_channels=96,kernel_size=11,stride=4)\n",
    "        self.conv2=nn.Conv2d(in_channels=96,out_channels=256,kernel_size=5,stride=1,padding=2)\n",
    "        self.conv3=nn.Conv2d(in_channels=256,out_channels=384,kernel_size=3,stride=1,padding=1)\n",
    "        self.conv4=nn.Conv2d(in_channels=384,out_channels=384,kernel_size=3,stride=1,padding=1)\n",
    "        self.conv5=nn.Conv2d(in_channels=384,out_channels=256,kernel_size=3,stride=1,padding=1)\n",
    "        self.linear1=nn.Linear(256*5*5,4096)\n",
    "        self.linear2=nn.Linear(4096,4096)\n",
    "        self.linear3=nn.Linear(4096,10)\n",
    "        self.dropout=nn.Dropout(0.5)\n",
    "        self.relu=nn.ReLU()\n",
    "        self.pool=nn.MaxPool2d(kernel_size=3,stride=2)\n",
    "#         self.linear=nn.Linear(16*25*25,10)\n",
    "        \n",
    "    def forward(self,x):\n",
    "        x=self.pool(self.relu(self.conv1(x)))\n",
    "        x=self.pool(self.relu(self.conv2(x)))\n",
    "        x=self.relu(self.conv3(x))\n",
    "        x=self.relu(self.conv4(x))\n",
    "        x=self.pool(self.relu(self.conv5(x)))\n",
    "# Testing the output dimension of the convolutional layer\n",
    "#         print(x.size())        \n",
    "\n",
    "#         Adjust the shape of the tensor, x.size(0) means keep the first dimension unchanged, \n",
    "#         -1 means calculate the remaining dimension automatically. \n",
    "#         It performs a flattening operation to convert the multidimensional tensor output by x from the convolution layer \n",
    "#         to a one-dimensional tensor for input to the fully connected layer.\n",
    "\n",
    "        x = x.view(x.size(0), -1)  \n",
    "#         print(x.size())\n",
    "#         x=self.dropout(self.relu(self.linear1(x)))\n",
    "        x=(self.relu(self.linear1(x)))\n",
    "#         x=self.dropout(self.relu(self.linear2(x)))\n",
    "        x=(self.relu(self.linear2(x)))\n",
    "        x=self.relu(self.linear3(x))\n",
    "        return x\n",
    "\n",
    "\n",
    "\n",
    "# class AlexNet(nn.Module):\n",
    "#     def __init__(self):\n",
    "#         super(AlexNet, self).__init__()\n",
    "#         self.conv = nn.Sequential(\n",
    "#             nn.Conv2d(1, 48, 11, 4), # in_channels, out_channels, kernel_size, stride, padding\n",
    "#             nn.ReLU(),\n",
    "#             nn.MaxPool2d(3, 2), # kernel_size, stride\n",
    "#             # 减小卷积窗口，使用填充为2来使得输入与输出的高和宽一致，且增大输出通道数\n",
    "#             nn.Conv2d(48, 128, 5, 1, 2),\n",
    "#             nn.ReLU(),\n",
    "#             nn.MaxPool2d(3, 2),\n",
    "#             # 连续3个卷积层，且使用更小的卷积窗口。除了最后的卷积层外，进一步增大了输出通道数。\n",
    "#             # 前两个卷积层后不使用池化层来减小输入的高和宽\n",
    "#             nn.Conv2d(128, 192, 3, 1, 1),\n",
    "#             nn.ReLU(),\n",
    "#             nn.Conv2d(192, 192, 3, 1, 1),\n",
    "#             nn.ReLU(),\n",
    "#             nn.Conv2d(192, 128, 3, 1, 1),\n",
    "#             nn.ReLU(),\n",
    "#             nn.MaxPool2d(3, 2)\n",
    "#         )\n",
    "#          # 这里全连接层的输出个数比LeNet中的大数倍。使用丢弃层来缓解过拟合\n",
    "#         self.fc = nn.Sequential(\n",
    "#             nn.Linear(128*5*5, 2048),\n",
    "#             nn.ReLU(),\n",
    "#             nn.Dropout(0.5),\n",
    "#             #由于使用CPU镜像，精简网络，若为GPU镜像可添加该层\n",
    "#             #nn.Linear(4096, 4096),\n",
    "#             #nn.ReLU(),\n",
    "#             #nn.Dropout(0.5),\n",
    "\n",
    "#             # 输出层。由于这里使用Fashion-MNIST，所以用类别数为10，而非论文中的1000\n",
    "#             nn.Linear(2048, 10),\n",
    "#         )\n",
    "\n",
    "#     def forward(self, img):\n",
    "\n",
    "#         feature = self.conv(img)\n",
    "#         output = self.fc(feature.view(img.shape[0], -1))\n",
    "#         return output\n",
    "\n",
    "\n",
    "device = torch.device(\"cuda\" if torch.cuda.is_available() else \"cpu\")\n",
    "print(\"device:\",device)\n",
    "anM=AlexNet().to(device)\n",
    "# CNNModel=CNN().to(device)\n",
    "loss_function=nn.NLLLoss()\n",
    "learning_rate=1e-4\n",
    "optimizer=torch.optim.SGD(anM.parameters(),lr=learning_rate)\n",
    "def antrain(epoch):\n",
    "    total_loss=0\n",
    "    for data,target in train_loader_FM:\n",
    "        data = data.to(device=device)\n",
    "        target = target.to(device=device)\n",
    "        anM.train()\n",
    "        y_pred=anM(data)\n",
    "        loss=loss_function(y_pred,target)\n",
    "        total_loss=total_loss+loss\n",
    "        loss.backward()\n",
    "        optimizer.step()\n",
    "        optimizer.zero_grad()\n",
    "    print(\"epoch=\",epoch)\n",
    "def antest():\n",
    "    test_loss=0\n",
    "    correct=0\n",
    "#     This line is needed so that the gradient is not saved during the test to avoid memory explosion\n",
    "    with torch.no_grad():\n",
    "        for data,target in test_loader_FM:\n",
    "            data = data.to(device=device)\n",
    "            target = target.to(device=device)\n",
    "            y_pred=anM(data)\n",
    "            test_loss+=loss_function(y_pred,target)\n",
    "#         max index\n",
    "            pred=torch.argmax(y_pred,dim=1)\n",
    "            correct+=pred.eq(target.data.view_as(pred)).sum()\n",
    "    total_test_lost=test_loss/len(test_loader_FM.dataset)\n",
    "#     print(\"\\nTest set average loss\",test_loss)\n",
    "    print(\"Test set average loss:{:.4f}\".format(total_test_lost))\n",
    "for epoch in range(0,10):\n",
    "    antrain(epoch)\n",
    "    antest()"
   ]
  },
  {
   "cell_type": "code",
   "execution_count": 12,
   "id": "6b431c51",
   "metadata": {},
   "outputs": [
    {
     "name": "stdout",
     "output_type": "stream",
     "text": [
      "device: cuda\n",
      "epoch:0/15\n",
      "batch:100/938-->loss:-0.0096\n",
      "batch:200/938-->loss:-0.0097\n",
      "batch:300/938-->loss:-0.0114\n",
      "batch:400/938-->loss:-0.0108\n",
      "batch:500/938-->loss:-0.0135\n",
      "batch:600/938-->loss:-0.0163\n",
      "batch:700/938-->loss:-0.0170\n",
      "batch:800/938-->loss:-0.0162\n",
      "batch:900/938-->loss:-0.0192\n",
      "epoch:0_acc:10.00%\n",
      "epoch:1/15\n",
      "batch:100/938-->loss:-0.0199\n",
      "batch:200/938-->loss:-0.0205\n",
      "batch:300/938-->loss:-0.0196\n",
      "batch:400/938-->loss:-0.0235\n",
      "batch:500/938-->loss:-0.0267\n",
      "batch:600/938-->loss:-0.0208\n",
      "batch:700/938-->loss:-0.0261\n",
      "batch:800/938-->loss:-0.0254\n",
      "batch:900/938-->loss:-0.0284\n",
      "epoch:1_acc:10.00%\n",
      "epoch:2/15\n",
      "batch:100/938-->loss:-0.0280\n"
     ]
    },
    {
     "ename": "KeyboardInterrupt",
     "evalue": "",
     "output_type": "error",
     "traceback": [
      "\u001b[0;31m---------------------------------------------------------------------------\u001b[0m",
      "\u001b[0;31mKeyboardInterrupt\u001b[0m                         Traceback (most recent call last)",
      "\u001b[0;32m/tmp/ipykernel_151916/3490391830.py\u001b[0m in \u001b[0;36m<module>\u001b[0;34m\u001b[0m\n\u001b[1;32m     39\u001b[0m         \u001b[0mprint\u001b[0m\u001b[0;34m(\u001b[0m\u001b[0;34m\"epoch:{:d}_acc:{:.2%}\"\u001b[0m\u001b[0;34m.\u001b[0m\u001b[0mformat\u001b[0m\u001b[0;34m(\u001b[0m\u001b[0mepoch\u001b[0m\u001b[0;34m,\u001b[0m\u001b[0mtestAcc\u001b[0m\u001b[0;34m[\u001b[0m\u001b[0;34m-\u001b[0m\u001b[0;36m1\u001b[0m\u001b[0;34m]\u001b[0m\u001b[0;34m)\u001b[0m\u001b[0;34m)\u001b[0m\u001b[0;34m\u001b[0m\u001b[0;34m\u001b[0m\u001b[0m\n\u001b[1;32m     40\u001b[0m \u001b[0;34m\u001b[0m\u001b[0m\n\u001b[0;32m---> 41\u001b[0;31m \u001b[0mantrain\u001b[0m\u001b[0;34m(\u001b[0m\u001b[0;36m15\u001b[0m\u001b[0;34m,\u001b[0m\u001b[0manM\u001b[0m\u001b[0;34m,\u001b[0m\u001b[0moptimizer\u001b[0m\u001b[0;34m,\u001b[0m\u001b[0mloss_function\u001b[0m\u001b[0;34m,\u001b[0m\u001b[0mtrain_loader_FM\u001b[0m\u001b[0;34m,\u001b[0m\u001b[0mtest_loader_FM\u001b[0m\u001b[0;34m)\u001b[0m\u001b[0;34m\u001b[0m\u001b[0;34m\u001b[0m\u001b[0m\n\u001b[0m\u001b[1;32m     42\u001b[0m \u001b[0;34m\u001b[0m\u001b[0m\n\u001b[1;32m     43\u001b[0m \u001b[0;31m# device = torch.device(\"cuda\" if torch.cuda.is_available() else \"cpu\")\u001b[0m\u001b[0;34m\u001b[0m\u001b[0;34m\u001b[0m\u001b[0;34m\u001b[0m\u001b[0m\n",
      "\u001b[0;32m/tmp/ipykernel_151916/3490391830.py\u001b[0m in \u001b[0;36mantrain\u001b[0;34m(epochs, model, optimizer, loss_fn, trainSet, testSet)\u001b[0m\n\u001b[1;32m     14\u001b[0m         \u001b[0mprint\u001b[0m\u001b[0;34m(\u001b[0m\u001b[0;34m\"epoch:{:d}/{:d}\"\u001b[0m\u001b[0;34m.\u001b[0m\u001b[0mformat\u001b[0m\u001b[0;34m(\u001b[0m\u001b[0mepoch\u001b[0m\u001b[0;34m,\u001b[0m\u001b[0mepochs\u001b[0m\u001b[0;34m)\u001b[0m\u001b[0;34m)\u001b[0m\u001b[0;34m\u001b[0m\u001b[0;34m\u001b[0m\u001b[0m\n\u001b[1;32m     15\u001b[0m         \u001b[0mmodel\u001b[0m\u001b[0;34m.\u001b[0m\u001b[0mtrain\u001b[0m\u001b[0;34m(\u001b[0m\u001b[0;34m)\u001b[0m\u001b[0;34m\u001b[0m\u001b[0;34m\u001b[0m\u001b[0m\n\u001b[0;32m---> 16\u001b[0;31m         \u001b[0;32mfor\u001b[0m \u001b[0midx\u001b[0m\u001b[0;34m,\u001b[0m\u001b[0;34m(\u001b[0m\u001b[0mimg\u001b[0m\u001b[0;34m,\u001b[0m\u001b[0mlabel\u001b[0m\u001b[0;34m)\u001b[0m \u001b[0;32min\u001b[0m \u001b[0menumerate\u001b[0m\u001b[0;34m(\u001b[0m\u001b[0mtrainSet\u001b[0m\u001b[0;34m)\u001b[0m\u001b[0;34m:\u001b[0m\u001b[0;34m\u001b[0m\u001b[0;34m\u001b[0m\u001b[0m\n\u001b[0m\u001b[1;32m     17\u001b[0m             \u001b[0mimg\u001b[0m\u001b[0;34m=\u001b[0m\u001b[0mimg\u001b[0m\u001b[0;34m.\u001b[0m\u001b[0mto\u001b[0m\u001b[0;34m(\u001b[0m\u001b[0mdevice\u001b[0m\u001b[0;34m)\u001b[0m\u001b[0;34m\u001b[0m\u001b[0;34m\u001b[0m\u001b[0m\n\u001b[1;32m     18\u001b[0m             \u001b[0mlabel\u001b[0m\u001b[0;34m=\u001b[0m\u001b[0mlabel\u001b[0m\u001b[0;34m.\u001b[0m\u001b[0mto\u001b[0m\u001b[0;34m(\u001b[0m\u001b[0mdevice\u001b[0m\u001b[0;34m)\u001b[0m\u001b[0;34m\u001b[0m\u001b[0;34m\u001b[0m\u001b[0m\n",
      "\u001b[0;32m/opt/conda/lib/python3.9/site-packages/torch/utils/data/dataloader.py\u001b[0m in \u001b[0;36m__next__\u001b[0;34m(self)\u001b[0m\n\u001b[1;32m    519\u001b[0m             \u001b[0;32mif\u001b[0m \u001b[0mself\u001b[0m\u001b[0;34m.\u001b[0m\u001b[0m_sampler_iter\u001b[0m \u001b[0;32mis\u001b[0m \u001b[0;32mNone\u001b[0m\u001b[0;34m:\u001b[0m\u001b[0;34m\u001b[0m\u001b[0;34m\u001b[0m\u001b[0m\n\u001b[1;32m    520\u001b[0m                 \u001b[0mself\u001b[0m\u001b[0;34m.\u001b[0m\u001b[0m_reset\u001b[0m\u001b[0;34m(\u001b[0m\u001b[0;34m)\u001b[0m\u001b[0;34m\u001b[0m\u001b[0;34m\u001b[0m\u001b[0m\n\u001b[0;32m--> 521\u001b[0;31m             \u001b[0mdata\u001b[0m \u001b[0;34m=\u001b[0m \u001b[0mself\u001b[0m\u001b[0;34m.\u001b[0m\u001b[0m_next_data\u001b[0m\u001b[0;34m(\u001b[0m\u001b[0;34m)\u001b[0m\u001b[0;34m\u001b[0m\u001b[0;34m\u001b[0m\u001b[0m\n\u001b[0m\u001b[1;32m    522\u001b[0m             \u001b[0mself\u001b[0m\u001b[0;34m.\u001b[0m\u001b[0m_num_yielded\u001b[0m \u001b[0;34m+=\u001b[0m \u001b[0;36m1\u001b[0m\u001b[0;34m\u001b[0m\u001b[0;34m\u001b[0m\u001b[0m\n\u001b[1;32m    523\u001b[0m             \u001b[0;32mif\u001b[0m \u001b[0mself\u001b[0m\u001b[0;34m.\u001b[0m\u001b[0m_dataset_kind\u001b[0m \u001b[0;34m==\u001b[0m \u001b[0m_DatasetKind\u001b[0m\u001b[0;34m.\u001b[0m\u001b[0mIterable\u001b[0m \u001b[0;32mand\u001b[0m\u001b[0;31m \u001b[0m\u001b[0;31m\\\u001b[0m\u001b[0;34m\u001b[0m\u001b[0;34m\u001b[0m\u001b[0m\n",
      "\u001b[0;32m/opt/conda/lib/python3.9/site-packages/torch/utils/data/dataloader.py\u001b[0m in \u001b[0;36m_next_data\u001b[0;34m(self)\u001b[0m\n\u001b[1;32m    559\u001b[0m     \u001b[0;32mdef\u001b[0m \u001b[0m_next_data\u001b[0m\u001b[0;34m(\u001b[0m\u001b[0mself\u001b[0m\u001b[0;34m)\u001b[0m\u001b[0;34m:\u001b[0m\u001b[0;34m\u001b[0m\u001b[0;34m\u001b[0m\u001b[0m\n\u001b[1;32m    560\u001b[0m         \u001b[0mindex\u001b[0m \u001b[0;34m=\u001b[0m \u001b[0mself\u001b[0m\u001b[0;34m.\u001b[0m\u001b[0m_next_index\u001b[0m\u001b[0;34m(\u001b[0m\u001b[0;34m)\u001b[0m  \u001b[0;31m# may raise StopIteration\u001b[0m\u001b[0;34m\u001b[0m\u001b[0;34m\u001b[0m\u001b[0m\n\u001b[0;32m--> 561\u001b[0;31m         \u001b[0mdata\u001b[0m \u001b[0;34m=\u001b[0m \u001b[0mself\u001b[0m\u001b[0;34m.\u001b[0m\u001b[0m_dataset_fetcher\u001b[0m\u001b[0;34m.\u001b[0m\u001b[0mfetch\u001b[0m\u001b[0;34m(\u001b[0m\u001b[0mindex\u001b[0m\u001b[0;34m)\u001b[0m  \u001b[0;31m# may raise StopIteration\u001b[0m\u001b[0;34m\u001b[0m\u001b[0;34m\u001b[0m\u001b[0m\n\u001b[0m\u001b[1;32m    562\u001b[0m         \u001b[0;32mif\u001b[0m \u001b[0mself\u001b[0m\u001b[0;34m.\u001b[0m\u001b[0m_pin_memory\u001b[0m\u001b[0;34m:\u001b[0m\u001b[0;34m\u001b[0m\u001b[0;34m\u001b[0m\u001b[0m\n\u001b[1;32m    563\u001b[0m             \u001b[0mdata\u001b[0m \u001b[0;34m=\u001b[0m \u001b[0m_utils\u001b[0m\u001b[0;34m.\u001b[0m\u001b[0mpin_memory\u001b[0m\u001b[0;34m.\u001b[0m\u001b[0mpin_memory\u001b[0m\u001b[0;34m(\u001b[0m\u001b[0mdata\u001b[0m\u001b[0;34m)\u001b[0m\u001b[0;34m\u001b[0m\u001b[0;34m\u001b[0m\u001b[0m\n",
      "\u001b[0;32m/opt/conda/lib/python3.9/site-packages/torch/utils/data/_utils/fetch.py\u001b[0m in \u001b[0;36mfetch\u001b[0;34m(self, possibly_batched_index)\u001b[0m\n\u001b[1;32m     42\u001b[0m     \u001b[0;32mdef\u001b[0m \u001b[0mfetch\u001b[0m\u001b[0;34m(\u001b[0m\u001b[0mself\u001b[0m\u001b[0;34m,\u001b[0m \u001b[0mpossibly_batched_index\u001b[0m\u001b[0;34m)\u001b[0m\u001b[0;34m:\u001b[0m\u001b[0;34m\u001b[0m\u001b[0;34m\u001b[0m\u001b[0m\n\u001b[1;32m     43\u001b[0m         \u001b[0;32mif\u001b[0m \u001b[0mself\u001b[0m\u001b[0;34m.\u001b[0m\u001b[0mauto_collation\u001b[0m\u001b[0;34m:\u001b[0m\u001b[0;34m\u001b[0m\u001b[0;34m\u001b[0m\u001b[0m\n\u001b[0;32m---> 44\u001b[0;31m             \u001b[0mdata\u001b[0m \u001b[0;34m=\u001b[0m \u001b[0;34m[\u001b[0m\u001b[0mself\u001b[0m\u001b[0;34m.\u001b[0m\u001b[0mdataset\u001b[0m\u001b[0;34m[\u001b[0m\u001b[0midx\u001b[0m\u001b[0;34m]\u001b[0m \u001b[0;32mfor\u001b[0m \u001b[0midx\u001b[0m \u001b[0;32min\u001b[0m \u001b[0mpossibly_batched_index\u001b[0m\u001b[0;34m]\u001b[0m\u001b[0;34m\u001b[0m\u001b[0;34m\u001b[0m\u001b[0m\n\u001b[0m\u001b[1;32m     45\u001b[0m         \u001b[0;32melse\u001b[0m\u001b[0;34m:\u001b[0m\u001b[0;34m\u001b[0m\u001b[0;34m\u001b[0m\u001b[0m\n\u001b[1;32m     46\u001b[0m             \u001b[0mdata\u001b[0m \u001b[0;34m=\u001b[0m \u001b[0mself\u001b[0m\u001b[0;34m.\u001b[0m\u001b[0mdataset\u001b[0m\u001b[0;34m[\u001b[0m\u001b[0mpossibly_batched_index\u001b[0m\u001b[0;34m]\u001b[0m\u001b[0;34m\u001b[0m\u001b[0;34m\u001b[0m\u001b[0m\n",
      "\u001b[0;32m/opt/conda/lib/python3.9/site-packages/torch/utils/data/_utils/fetch.py\u001b[0m in \u001b[0;36m<listcomp>\u001b[0;34m(.0)\u001b[0m\n\u001b[1;32m     42\u001b[0m     \u001b[0;32mdef\u001b[0m \u001b[0mfetch\u001b[0m\u001b[0;34m(\u001b[0m\u001b[0mself\u001b[0m\u001b[0;34m,\u001b[0m \u001b[0mpossibly_batched_index\u001b[0m\u001b[0;34m)\u001b[0m\u001b[0;34m:\u001b[0m\u001b[0;34m\u001b[0m\u001b[0;34m\u001b[0m\u001b[0m\n\u001b[1;32m     43\u001b[0m         \u001b[0;32mif\u001b[0m \u001b[0mself\u001b[0m\u001b[0;34m.\u001b[0m\u001b[0mauto_collation\u001b[0m\u001b[0;34m:\u001b[0m\u001b[0;34m\u001b[0m\u001b[0;34m\u001b[0m\u001b[0m\n\u001b[0;32m---> 44\u001b[0;31m             \u001b[0mdata\u001b[0m \u001b[0;34m=\u001b[0m \u001b[0;34m[\u001b[0m\u001b[0mself\u001b[0m\u001b[0;34m.\u001b[0m\u001b[0mdataset\u001b[0m\u001b[0;34m[\u001b[0m\u001b[0midx\u001b[0m\u001b[0;34m]\u001b[0m \u001b[0;32mfor\u001b[0m \u001b[0midx\u001b[0m \u001b[0;32min\u001b[0m \u001b[0mpossibly_batched_index\u001b[0m\u001b[0;34m]\u001b[0m\u001b[0;34m\u001b[0m\u001b[0;34m\u001b[0m\u001b[0m\n\u001b[0m\u001b[1;32m     45\u001b[0m         \u001b[0;32melse\u001b[0m\u001b[0;34m:\u001b[0m\u001b[0;34m\u001b[0m\u001b[0;34m\u001b[0m\u001b[0m\n\u001b[1;32m     46\u001b[0m             \u001b[0mdata\u001b[0m \u001b[0;34m=\u001b[0m \u001b[0mself\u001b[0m\u001b[0;34m.\u001b[0m\u001b[0mdataset\u001b[0m\u001b[0;34m[\u001b[0m\u001b[0mpossibly_batched_index\u001b[0m\u001b[0;34m]\u001b[0m\u001b[0;34m\u001b[0m\u001b[0;34m\u001b[0m\u001b[0m\n",
      "\u001b[0;32m/opt/conda/lib/python3.9/site-packages/torchvision/datasets/mnist.py\u001b[0m in \u001b[0;36m__getitem__\u001b[0;34m(self, index)\u001b[0m\n\u001b[1;32m    132\u001b[0m \u001b[0;34m\u001b[0m\u001b[0m\n\u001b[1;32m    133\u001b[0m         \u001b[0;32mif\u001b[0m \u001b[0mself\u001b[0m\u001b[0;34m.\u001b[0m\u001b[0mtransform\u001b[0m \u001b[0;32mis\u001b[0m \u001b[0;32mnot\u001b[0m \u001b[0;32mNone\u001b[0m\u001b[0;34m:\u001b[0m\u001b[0;34m\u001b[0m\u001b[0;34m\u001b[0m\u001b[0m\n\u001b[0;32m--> 134\u001b[0;31m             \u001b[0mimg\u001b[0m \u001b[0;34m=\u001b[0m \u001b[0mself\u001b[0m\u001b[0;34m.\u001b[0m\u001b[0mtransform\u001b[0m\u001b[0;34m(\u001b[0m\u001b[0mimg\u001b[0m\u001b[0;34m)\u001b[0m\u001b[0;34m\u001b[0m\u001b[0;34m\u001b[0m\u001b[0m\n\u001b[0m\u001b[1;32m    135\u001b[0m \u001b[0;34m\u001b[0m\u001b[0m\n\u001b[1;32m    136\u001b[0m         \u001b[0;32mif\u001b[0m \u001b[0mself\u001b[0m\u001b[0;34m.\u001b[0m\u001b[0mtarget_transform\u001b[0m \u001b[0;32mis\u001b[0m \u001b[0;32mnot\u001b[0m \u001b[0;32mNone\u001b[0m\u001b[0;34m:\u001b[0m\u001b[0;34m\u001b[0m\u001b[0;34m\u001b[0m\u001b[0m\n",
      "\u001b[0;32m/opt/conda/lib/python3.9/site-packages/torchvision/transforms/transforms.py\u001b[0m in \u001b[0;36m__call__\u001b[0;34m(self, img)\u001b[0m\n\u001b[1;32m     58\u001b[0m     \u001b[0;32mdef\u001b[0m \u001b[0m__call__\u001b[0m\u001b[0;34m(\u001b[0m\u001b[0mself\u001b[0m\u001b[0;34m,\u001b[0m \u001b[0mimg\u001b[0m\u001b[0;34m)\u001b[0m\u001b[0;34m:\u001b[0m\u001b[0;34m\u001b[0m\u001b[0;34m\u001b[0m\u001b[0m\n\u001b[1;32m     59\u001b[0m         \u001b[0;32mfor\u001b[0m \u001b[0mt\u001b[0m \u001b[0;32min\u001b[0m \u001b[0mself\u001b[0m\u001b[0;34m.\u001b[0m\u001b[0mtransforms\u001b[0m\u001b[0;34m:\u001b[0m\u001b[0;34m\u001b[0m\u001b[0;34m\u001b[0m\u001b[0m\n\u001b[0;32m---> 60\u001b[0;31m             \u001b[0mimg\u001b[0m \u001b[0;34m=\u001b[0m \u001b[0mt\u001b[0m\u001b[0;34m(\u001b[0m\u001b[0mimg\u001b[0m\u001b[0;34m)\u001b[0m\u001b[0;34m\u001b[0m\u001b[0;34m\u001b[0m\u001b[0m\n\u001b[0m\u001b[1;32m     61\u001b[0m         \u001b[0;32mreturn\u001b[0m \u001b[0mimg\u001b[0m\u001b[0;34m\u001b[0m\u001b[0;34m\u001b[0m\u001b[0m\n\u001b[1;32m     62\u001b[0m \u001b[0;34m\u001b[0m\u001b[0m\n",
      "\u001b[0;32m/opt/conda/lib/python3.9/site-packages/torch/nn/modules/module.py\u001b[0m in \u001b[0;36m_call_impl\u001b[0;34m(self, *input, **kwargs)\u001b[0m\n\u001b[1;32m   1049\u001b[0m         if not (self._backward_hooks or self._forward_hooks or self._forward_pre_hooks or _global_backward_hooks\n\u001b[1;32m   1050\u001b[0m                 or _global_forward_hooks or _global_forward_pre_hooks):\n\u001b[0;32m-> 1051\u001b[0;31m             \u001b[0;32mreturn\u001b[0m \u001b[0mforward_call\u001b[0m\u001b[0;34m(\u001b[0m\u001b[0;34m*\u001b[0m\u001b[0minput\u001b[0m\u001b[0;34m,\u001b[0m \u001b[0;34m**\u001b[0m\u001b[0mkwargs\u001b[0m\u001b[0;34m)\u001b[0m\u001b[0;34m\u001b[0m\u001b[0;34m\u001b[0m\u001b[0m\n\u001b[0m\u001b[1;32m   1052\u001b[0m         \u001b[0;31m# Do not call functions when jit is used\u001b[0m\u001b[0;34m\u001b[0m\u001b[0;34m\u001b[0m\u001b[0;34m\u001b[0m\u001b[0m\n\u001b[1;32m   1053\u001b[0m         \u001b[0mfull_backward_hooks\u001b[0m\u001b[0;34m,\u001b[0m \u001b[0mnon_full_backward_hooks\u001b[0m \u001b[0;34m=\u001b[0m \u001b[0;34m[\u001b[0m\u001b[0;34m]\u001b[0m\u001b[0;34m,\u001b[0m \u001b[0;34m[\u001b[0m\u001b[0;34m]\u001b[0m\u001b[0;34m\u001b[0m\u001b[0;34m\u001b[0m\u001b[0m\n",
      "\u001b[0;32m/opt/conda/lib/python3.9/site-packages/torchvision/transforms/transforms.py\u001b[0m in \u001b[0;36mforward\u001b[0;34m(self, img)\u001b[0m\n\u001b[1;32m    295\u001b[0m             \u001b[0mPIL\u001b[0m \u001b[0mImage\u001b[0m \u001b[0;32mor\u001b[0m \u001b[0mTensor\u001b[0m\u001b[0;34m:\u001b[0m \u001b[0mRescaled\u001b[0m \u001b[0mimage\u001b[0m\u001b[0;34m.\u001b[0m\u001b[0;34m\u001b[0m\u001b[0;34m\u001b[0m\u001b[0m\n\u001b[1;32m    296\u001b[0m         \"\"\"\n\u001b[0;32m--> 297\u001b[0;31m         \u001b[0;32mreturn\u001b[0m \u001b[0mF\u001b[0m\u001b[0;34m.\u001b[0m\u001b[0mresize\u001b[0m\u001b[0;34m(\u001b[0m\u001b[0mimg\u001b[0m\u001b[0;34m,\u001b[0m \u001b[0mself\u001b[0m\u001b[0;34m.\u001b[0m\u001b[0msize\u001b[0m\u001b[0;34m,\u001b[0m \u001b[0mself\u001b[0m\u001b[0;34m.\u001b[0m\u001b[0minterpolation\u001b[0m\u001b[0;34m,\u001b[0m \u001b[0mself\u001b[0m\u001b[0;34m.\u001b[0m\u001b[0mmax_size\u001b[0m\u001b[0;34m,\u001b[0m \u001b[0mself\u001b[0m\u001b[0;34m.\u001b[0m\u001b[0mantialias\u001b[0m\u001b[0;34m)\u001b[0m\u001b[0;34m\u001b[0m\u001b[0;34m\u001b[0m\u001b[0m\n\u001b[0m\u001b[1;32m    298\u001b[0m \u001b[0;34m\u001b[0m\u001b[0m\n\u001b[1;32m    299\u001b[0m     \u001b[0;32mdef\u001b[0m \u001b[0m__repr__\u001b[0m\u001b[0;34m(\u001b[0m\u001b[0mself\u001b[0m\u001b[0;34m)\u001b[0m\u001b[0;34m:\u001b[0m\u001b[0;34m\u001b[0m\u001b[0;34m\u001b[0m\u001b[0m\n",
      "\u001b[0;32m/opt/conda/lib/python3.9/site-packages/torchvision/transforms/functional.py\u001b[0m in \u001b[0;36mresize\u001b[0;34m(img, size, interpolation, max_size, antialias)\u001b[0m\n\u001b[1;32m    399\u001b[0m             )\n\u001b[1;32m    400\u001b[0m         \u001b[0mpil_interpolation\u001b[0m \u001b[0;34m=\u001b[0m \u001b[0mpil_modes_mapping\u001b[0m\u001b[0;34m[\u001b[0m\u001b[0minterpolation\u001b[0m\u001b[0;34m]\u001b[0m\u001b[0;34m\u001b[0m\u001b[0;34m\u001b[0m\u001b[0m\n\u001b[0;32m--> 401\u001b[0;31m         \u001b[0;32mreturn\u001b[0m \u001b[0mF_pil\u001b[0m\u001b[0;34m.\u001b[0m\u001b[0mresize\u001b[0m\u001b[0;34m(\u001b[0m\u001b[0mimg\u001b[0m\u001b[0;34m,\u001b[0m \u001b[0msize\u001b[0m\u001b[0;34m=\u001b[0m\u001b[0msize\u001b[0m\u001b[0;34m,\u001b[0m \u001b[0minterpolation\u001b[0m\u001b[0;34m=\u001b[0m\u001b[0mpil_interpolation\u001b[0m\u001b[0;34m,\u001b[0m \u001b[0mmax_size\u001b[0m\u001b[0;34m=\u001b[0m\u001b[0mmax_size\u001b[0m\u001b[0;34m)\u001b[0m\u001b[0;34m\u001b[0m\u001b[0;34m\u001b[0m\u001b[0m\n\u001b[0m\u001b[1;32m    402\u001b[0m \u001b[0;34m\u001b[0m\u001b[0m\n\u001b[1;32m    403\u001b[0m     \u001b[0;32mreturn\u001b[0m \u001b[0mF_t\u001b[0m\u001b[0;34m.\u001b[0m\u001b[0mresize\u001b[0m\u001b[0;34m(\u001b[0m\u001b[0mimg\u001b[0m\u001b[0;34m,\u001b[0m \u001b[0msize\u001b[0m\u001b[0;34m=\u001b[0m\u001b[0msize\u001b[0m\u001b[0;34m,\u001b[0m \u001b[0minterpolation\u001b[0m\u001b[0;34m=\u001b[0m\u001b[0minterpolation\u001b[0m\u001b[0;34m.\u001b[0m\u001b[0mvalue\u001b[0m\u001b[0;34m,\u001b[0m \u001b[0mmax_size\u001b[0m\u001b[0;34m=\u001b[0m\u001b[0mmax_size\u001b[0m\u001b[0;34m,\u001b[0m \u001b[0mantialias\u001b[0m\u001b[0;34m=\u001b[0m\u001b[0mantialias\u001b[0m\u001b[0;34m)\u001b[0m\u001b[0;34m\u001b[0m\u001b[0;34m\u001b[0m\u001b[0m\n",
      "\u001b[0;32m/opt/conda/lib/python3.9/site-packages/torchvision/transforms/functional_pil.py\u001b[0m in \u001b[0;36mresize\u001b[0;34m(img, size, interpolation, max_size)\u001b[0m\n\u001b[1;32m    232\u001b[0m \u001b[0;34m\u001b[0m\u001b[0m\n\u001b[1;32m    233\u001b[0m         \u001b[0mnew_w\u001b[0m\u001b[0;34m,\u001b[0m \u001b[0mnew_h\u001b[0m \u001b[0;34m=\u001b[0m \u001b[0;34m(\u001b[0m\u001b[0mnew_short\u001b[0m\u001b[0;34m,\u001b[0m \u001b[0mnew_long\u001b[0m\u001b[0;34m)\u001b[0m \u001b[0;32mif\u001b[0m \u001b[0mw\u001b[0m \u001b[0;34m<=\u001b[0m \u001b[0mh\u001b[0m \u001b[0;32melse\u001b[0m \u001b[0;34m(\u001b[0m\u001b[0mnew_long\u001b[0m\u001b[0;34m,\u001b[0m \u001b[0mnew_short\u001b[0m\u001b[0;34m)\u001b[0m\u001b[0;34m\u001b[0m\u001b[0;34m\u001b[0m\u001b[0m\n\u001b[0;32m--> 234\u001b[0;31m         \u001b[0;32mreturn\u001b[0m \u001b[0mimg\u001b[0m\u001b[0;34m.\u001b[0m\u001b[0mresize\u001b[0m\u001b[0;34m(\u001b[0m\u001b[0;34m(\u001b[0m\u001b[0mnew_w\u001b[0m\u001b[0;34m,\u001b[0m \u001b[0mnew_h\u001b[0m\u001b[0;34m)\u001b[0m\u001b[0;34m,\u001b[0m \u001b[0minterpolation\u001b[0m\u001b[0;34m)\u001b[0m\u001b[0;34m\u001b[0m\u001b[0;34m\u001b[0m\u001b[0m\n\u001b[0m\u001b[1;32m    235\u001b[0m     \u001b[0;32melse\u001b[0m\u001b[0;34m:\u001b[0m\u001b[0;34m\u001b[0m\u001b[0;34m\u001b[0m\u001b[0m\n\u001b[1;32m    236\u001b[0m         \u001b[0;32mif\u001b[0m \u001b[0mmax_size\u001b[0m \u001b[0;32mis\u001b[0m \u001b[0;32mnot\u001b[0m \u001b[0;32mNone\u001b[0m\u001b[0;34m:\u001b[0m\u001b[0;34m\u001b[0m\u001b[0;34m\u001b[0m\u001b[0m\n",
      "\u001b[0;32m/opt/conda/lib/python3.9/site-packages/PIL/Image.py\u001b[0m in \u001b[0;36mresize\u001b[0;34m(self, size, resample, box)\u001b[0m\n\u001b[1;32m   1886\u001b[0m         \u001b[0mself\u001b[0m\u001b[0;34m.\u001b[0m\u001b[0mload\u001b[0m\u001b[0;34m(\u001b[0m\u001b[0;34m)\u001b[0m\u001b[0;34m\u001b[0m\u001b[0;34m\u001b[0m\u001b[0m\n\u001b[1;32m   1887\u001b[0m \u001b[0;34m\u001b[0m\u001b[0m\n\u001b[0;32m-> 1888\u001b[0;31m         \u001b[0;32mreturn\u001b[0m \u001b[0mself\u001b[0m\u001b[0;34m.\u001b[0m\u001b[0m_new\u001b[0m\u001b[0;34m(\u001b[0m\u001b[0mself\u001b[0m\u001b[0;34m.\u001b[0m\u001b[0mim\u001b[0m\u001b[0;34m.\u001b[0m\u001b[0mresize\u001b[0m\u001b[0;34m(\u001b[0m\u001b[0msize\u001b[0m\u001b[0;34m,\u001b[0m \u001b[0mresample\u001b[0m\u001b[0;34m,\u001b[0m \u001b[0mbox\u001b[0m\u001b[0;34m)\u001b[0m\u001b[0;34m)\u001b[0m\u001b[0;34m\u001b[0m\u001b[0;34m\u001b[0m\u001b[0m\n\u001b[0m\u001b[1;32m   1889\u001b[0m \u001b[0;34m\u001b[0m\u001b[0m\n\u001b[1;32m   1890\u001b[0m     def rotate(\n",
      "\u001b[0;31mKeyboardInterrupt\u001b[0m: "
     ]
    }
   ],
   "source": [
    "device = torch.device(\"cuda\" if torch.cuda.is_available() else \"cpu\")\n",
    "print(\"device:\",device)\n",
    "anM=AlexNet().to(device)\n",
    "loss_function=nn.NLLLoss()\n",
    "learning_rate=1e-4\n",
    "optimizer=torch.optim.SGD(anM.parameters(),lr=learning_rate)\n",
    "# optimizer=torch.optim.Adam(anM.parameters(),lr=learning_rate)\n",
    "\n",
    "def antrain(epochs=10,model=anM,optimizer=optimizer,loss_fn=loss_function,trainSet=train_loader_FM,testSet=test_loader_FM):\n",
    "    lossList=[]\n",
    "    testAcc=[]\n",
    "    for epoch in range(epochs):\n",
    "        lossSum=0.0\n",
    "        print(\"epoch:{:d}/{:d}\".format(epoch,epochs))\n",
    "        model.train()\n",
    "        for idx,(img,label) in enumerate(trainSet):\n",
    "            img=img.to(device)\n",
    "            label=label.to(device)\n",
    "            optimizer.zero_grad()\n",
    "            out=model(img)\n",
    "            loss=loss_fn(out,label)\n",
    "            loss.backward()\n",
    "            optimizer.step()\n",
    "            lossSum+=loss.item()\n",
    "            if (idx+1)%100==0:\n",
    "                print(\"batch:{:d}/{:d}-->loss:{:.4f}\".format(idx+1,len(trainSet),loss.item()))\n",
    "#       Do not enable batchnormalization and dropout to ensure that BN and dropout do not change\n",
    "        model.eval()\n",
    "        accNum=0\n",
    "        testNum=0\n",
    "        with torch.no_grad():\n",
    "            for idx,(img,label) in enumerate(testSet):\n",
    "                testNum+=label.shape[0]\n",
    "                img=img.to(device)\n",
    "                label=label.to(device)\n",
    "                out=model(img)\n",
    "                preds=out.argmax(dim=1)\n",
    "                accNum+=int((preds==label).sum())\n",
    "            testAcc.append(accNum/testNum)\n",
    "        print(\"epoch:{:d}_acc:{:.2%}\".format(epoch,testAcc[-1]))\n",
    "        \n",
    "antrain(15,anM,optimizer,loss_function,train_loader_FM,test_loader_FM)\n",
    "\n",
    "# device = torch.device(\"cuda\" if torch.cuda.is_available() else \"cpu\")\n",
    "# print(\"device:\",device)\n",
    "# anM=AlexNet().to(device)\n",
    "# loss_function=nn.NLLLoss()\n",
    "# learning_rate=1e-4\n",
    "# optimizer=torch.optim.Adam(anM.parameters(),lr=learning_rate)"
   ]
  },
  {
   "cell_type": "markdown",
   "id": "101d7e5c",
   "metadata": {},
   "source": [
    "总结：网络模型并不难搭建，但消耗了大量时间在处理显存爆炸上。排查原因时被误导认为是由于adam优化器在kaiming方法初始化时loss较大。CUDA在处理大数除法时导致了显存爆炸。而删除大数除法后，显存爆炸依然出现。进而发现是测试时没有写torch.no_grad()语句，导致测试时依然进行了梯度的计算，从而导致了显存的爆炸。此前程序中最后的大数除法语句打印未完成怀疑是其开展了并行计算，而大数运算较为费时，导致了输出语句不成功。\n",
    "\n",
    "Summary: The network model was not difficult to build, but it consumed a lot of time in dealing with the memory explosion. I was misled to believe that the adam optimizer had a large loss when initializing the kaiming method, and CUDA caused the memory explosion when processing large divisions. After removing the large division, the memory explosion still occurs. It was found that the test did not write the torch.no_grad() statement, which caused the test to still perform the gradient calculation, thus causing the memory explosion. Previously, the last large division statement in the program did not complete printing suspected that it carried out parallel computing, and the large number operation is more time-consuming, resulting in unsuccessful output statements."
   ]
  },
  {
   "cell_type": "markdown",
   "id": "187f04eb",
   "metadata": {},
   "source": [
    "ResNet(use plus)"
   ]
  },
  {
   "cell_type": "code",
   "execution_count": 17,
   "id": "2d717bb3",
   "metadata": {},
   "outputs": [
    {
     "name": "stdout",
     "output_type": "stream",
     "text": [
      "torch.Size([4, 3, 7, 7])\n",
      "torch.Size([4, 3, 7, 7])\n",
      "torch.Size([4, 3, 7, 7])\n",
      "torch.Size([4, 3, 4, 4])\n",
      "torch.Size([4, 3, 4, 4])\n",
      "torch.Size([4, 3, 4, 4])\n"
     ]
    }
   ],
   "source": [
    "class Resnet(nn.Module):\n",
    "    def __init__(self,use_1x1conv=False,stride=1):\n",
    "        super().__init__()\n",
    "        self.conv1=nn.Conv2d(3,32,5,padding=2,stride=stride)\n",
    "        self.conv2=nn.Conv2d(32,3,3,padding=1)\n",
    "        if use_1x1conv:\n",
    "            self.conv3=nn.Conv2d(3,3,1,stride=stride)\n",
    "        else:\n",
    "            self.conv3=None\n",
    "#             Normalization with the same number of parameters as the output channels\n",
    "        self.bn1=nn.BatchNorm2d(32)\n",
    "        self.bn2=nn.BatchNorm2d(3)\n",
    "        self.relu=nn.ReLU()\n",
    "    def forward(self,x):\n",
    "        Y=self.relu(self.bn1(self.conv1(x)))\n",
    "        Y=self.bn2(self.conv2(Y))\n",
    "        if self.conv3:\n",
    "            x=self.conv3(x)\n",
    "#             Need to control the x and y dimensions exactly the same\n",
    "        print(x.shape)\n",
    "        print(Y.shape)\n",
    "        return self.relu(Y+x)\n",
    "resNetTest1=Resnet()\n",
    "test1=torch.rand((4,3,7,7))\n",
    "resNetTest2=Resnet(use_1x1conv=True,stride=2)\n",
    "test2=torch.rand((4,3,7,7))\n",
    "print(resNetTest1(test1).shape)\n",
    "print(resNetTest2(test2).shape)"
   ]
  },
  {
   "cell_type": "markdown",
   "id": "72b2e27e",
   "metadata": {},
   "source": [
    "DenseNet(use concatnate)"
   ]
  },
  {
   "cell_type": "code",
   "execution_count": 31,
   "id": "aa4e4b8d",
   "metadata": {},
   "outputs": [
    {
     "name": "stdout",
     "output_type": "stream",
     "text": [
      "torch.Size([4, 23, 8, 8])\n"
     ]
    }
   ],
   "source": [
    "# DenseBlock\n",
    "def conv_block(in_channels,out_channels):\n",
    "    blk=nn.Sequential(nn.BatchNorm2d(in_channels),nn.ReLU(),nn.Conv2d(in_channels,out_channels,3,padding=1))\n",
    "    return blk\n",
    "class DenseBlock(nn.Module):\n",
    "    def __init__(self,num_convs,in_channels,out_channels):\n",
    "        super().__init__()\n",
    "        net=[]\n",
    "#         The input of each layer contains the output of all previous layers\n",
    "        for i in range(num_convs):\n",
    "            in_c=in_channels+i*out_channels\n",
    "            net.append(conv_block(in_c,out_channels))\n",
    "#             It is a container that stores different modules and automatically adds the parameters of each module to the network. \n",
    "#             Modules added to nn.ModuleList are automatically registered to the entire neural network, \n",
    "#             and the parameters of the modules are also automatically added to the entire network.\n",
    "        self.net=nn.ModuleList(net)\n",
    "        self.out_channels=in_channels+num_convs*out_channels\n",
    "    def forward(self,x):\n",
    "        for block in self.net:\n",
    "            Y=block(x)\n",
    "#             print(\"x,\",x.shape)\n",
    "#             print(\"Y,\",Y.shape)\n",
    "            x=torch.cat((x,Y),dim=1)\n",
    "        return x\n",
    "block=DenseBlock(2,3,10)\n",
    "x=torch.rand(4,3,8,8)\n",
    "Y=block(x)\n",
    "print(Y.shape)"
   ]
  },
  {
   "cell_type": "code",
   "execution_count": 29,
   "id": "8d044023",
   "metadata": {},
   "outputs": [
    {
     "name": "stdout",
     "output_type": "stream",
     "text": [
      "torch.Size([4, 10, 4, 4])\n"
     ]
    }
   ],
   "source": [
    "# TransitionBlock\n",
    "def transition_block(in_channels,out_channels):\n",
    "#     print(\"in:\",in_channels,\"\\tout:\",out_channels)\n",
    "    block=nn.Sequential(nn.BatchNorm2d(in_channels),nn.ReLU(),nn.Conv2d(in_channels,out_channels,kernel_size=1),\n",
    "                        nn.AvgPool2d(kernel_size=2,stride=2))\n",
    "    return block\n",
    "block=transition_block(23,10)\n",
    "testData=torch.rand(4,23,8,8)\n",
    "print(block(Y).shape)\n",
    "    "
   ]
  },
  {
   "cell_type": "code",
   "execution_count": 47,
   "id": "6bb421dc",
   "metadata": {},
   "outputs": [
    {
     "name": "stdout",
     "output_type": "stream",
     "text": [
      "0  output shape:\t torch.Size([1, 64, 48, 48])\n",
      "1  output shape:\t torch.Size([1, 64, 48, 48])\n",
      "2  output shape:\t torch.Size([1, 64, 48, 48])\n",
      "3  output shape:\t torch.Size([1, 64, 24, 24])\n",
      "DenseBlock_0  output shape:\t torch.Size([1, 192, 24, 24])\n",
      "transition_block_0  output shape:\t torch.Size([1, 96, 12, 12])\n",
      "DenseBlock_1  output shape:\t torch.Size([1, 224, 12, 12])\n",
      "transition_block_1  output shape:\t torch.Size([1, 112, 6, 6])\n",
      "DenseBlock_2  output shape:\t torch.Size([1, 240, 6, 6])\n",
      "transition_block_2  output shape:\t torch.Size([1, 120, 3, 3])\n",
      "DenseBlock_3  output shape:\t torch.Size([1, 248, 3, 3])\n",
      "batchnorm  output shape:\t torch.Size([1, 248, 3, 3])\n",
      "ReLu  output shape:\t torch.Size([1, 248, 3, 3])\n",
      "global_average_pool  output shape:\t torch.Size([1, 248, 1, 1])\n",
      "flatten_layer  output shape:\t torch.Size([1, 248])\n",
      "full_connect  output shape:\t torch.Size([1, 10])\n"
     ]
    }
   ],
   "source": [
    "class DenseNet(nn.Module):\n",
    "    def __init__(self):\n",
    "        super().__init__()\n",
    "#         Use nn.sequential without writing additional forward functions\n",
    "        self.net=nn.Sequential(nn.Conv2d(1,64,kernel_size=7,stride=2,padding=3),nn.BatchNorm2d(64),nn.ReLU(),\n",
    "                               nn.MaxPool2d(kernel_size=3,stride=2,padding=1))\n",
    "        self.num_channels=64\n",
    "        self.growth_rate=32\n",
    "        self.num_convs_in_dense_blocks=[4,4,4,4]\n",
    "        for i,num_convs in enumerate(self.num_convs_in_dense_blocks):\n",
    "            DB=DenseBlock(num_convs,self.num_channels,self.growth_rate)\n",
    "            self.net.add_module(\"DenseBlock_{:d}\".format(i),DB)\n",
    "#             Number of output channels of the previous denseblock\n",
    "            self.num_channels=DB.out_channels\n",
    "#             Add transition layer between denseblock\n",
    "            if i!=len(self.num_convs_in_dense_blocks)-1:\n",
    "#         Use integer division instead of floating point division\n",
    "                tran_out_channel=self.num_channels//2\n",
    "#                 print(tran_out_channel)\n",
    "                self.net.add_module(\"transition_block_{:d}\".format(i),transition_block(self.num_channels, tran_out_channel))\n",
    "                self.num_channels=tran_out_channel\n",
    "        self.net.add_module(\"batchnorm\",nn.BatchNorm2d(self.num_channels))\n",
    "        self.net.add_module(\"ReLu\",nn.ReLU())\n",
    "        self.net.add_module(\"global_average_pool\",nn.AvgPool2d(kernel_size=3))\n",
    "#         add flatten layer\n",
    "        self.net.add_module(\"flatten_layer\",nn.Flatten(start_dim=1,end_dim=-1))\n",
    "\n",
    "        self.net.add_module(\"full_connect\",nn.Linear(self.num_channels,10))\n",
    "    def forward(self,x):\n",
    "        return self.net(x)\n",
    "dn=DenseNet()\n",
    "x=torch.rand(1,1,96,96)\n",
    "for name,layer in dn.net.named_children():\n",
    "    x=layer(x)\n",
    "    print(name,' output shape:\\t',x.shape)"
   ]
  },
  {
   "cell_type": "code",
   "execution_count": 44,
   "id": "0e6dc24d",
   "metadata": {},
   "outputs": [],
   "source": [
    "batch_size=64\n",
    "resize=96\n",
    "trans = []\n",
    "trans.append(torchvision.transforms.Resize(size=resize))\n",
    "trans.append(torchvision.transforms.ToTensor())\n",
    "transform = torchvision.transforms.Compose(trans)\n",
    "\n",
    "# tr_FM=datasets.FashionMNIST(root='./fashion_mnist',train=True,transform=transforms.ToTensor())\n",
    "# test_FM=datasets.FashionMNIST(root='./fashion_mnist',train=False,transform=transforms.ToTensor())\n",
    "\n",
    "tr_FM_96=datasets.FashionMNIST(root='./fashion_mnist',train=True,transform=transform)\n",
    "test_FM_96=datasets.FashionMNIST(root='./fashion_mnist',train=False,transform=transform)\n",
    "\n",
    "# train_dataset=datasets.MNIST(root='./mnist_data',train=True,transform=transforms.ToTensor(),download=True)\n",
    "# test_dataset=datasets.MNIST(root='./mnist_data',train=False,transform=transforms.ToTensor())\n",
    "train_loader_FM_96=torch.utils.data.DataLoader(dataset=tr_FM_96,batch_size=batch_size,shuffle=True)\n",
    "test_loader_FM_96=torch.utils.data.DataLoader(dataset=test_FM_96,batch_size=batch_size,shuffle=False)"
   ]
  },
  {
   "cell_type": "code",
   "execution_count": 48,
   "id": "3f9159fc",
   "metadata": {},
   "outputs": [
    {
     "name": "stdout",
     "output_type": "stream",
     "text": [
      "device: cuda\n",
      "epoch:0/15\n",
      "batch:100/938-->loss:-0.1422\n",
      "batch:200/938-->loss:-0.1847\n",
      "batch:300/938-->loss:-0.3787\n",
      "batch:400/938-->loss:-0.3431\n",
      "batch:500/938-->loss:-0.5428\n",
      "batch:600/938-->loss:-0.6477\n",
      "batch:700/938-->loss:-0.5477\n",
      "batch:800/938-->loss:-0.7907\n",
      "batch:900/938-->loss:-0.9363\n",
      "epoch:0_acc:36.01%\n",
      "epoch:1/15\n",
      "batch:100/938-->loss:-1.0213\n",
      "batch:200/938-->loss:-1.1694\n",
      "batch:300/938-->loss:-1.2886\n",
      "batch:400/938-->loss:-1.4049\n",
      "batch:500/938-->loss:-1.3543\n",
      "batch:600/938-->loss:-1.5944\n",
      "batch:700/938-->loss:-1.6234\n",
      "batch:800/938-->loss:-1.7634\n",
      "batch:900/938-->loss:-1.9910\n",
      "epoch:1_acc:39.71%\n",
      "epoch:2/15\n",
      "batch:100/938-->loss:-1.9456\n",
      "batch:200/938-->loss:-2.1511\n",
      "batch:300/938-->loss:-2.2159\n",
      "batch:400/938-->loss:-2.3977\n",
      "batch:500/938-->loss:-2.4004\n",
      "batch:600/938-->loss:-2.5576\n",
      "batch:700/938-->loss:-2.7275\n",
      "batch:800/938-->loss:-2.6318\n",
      "batch:900/938-->loss:-2.8441\n",
      "epoch:2_acc:50.13%\n",
      "epoch:3/15\n",
      "batch:100/938-->loss:-3.2457\n",
      "batch:200/938-->loss:-3.1561\n",
      "batch:300/938-->loss:-3.5719\n",
      "batch:400/938-->loss:-3.6104\n",
      "batch:500/938-->loss:-3.8457\n",
      "batch:600/938-->loss:-3.8840\n",
      "batch:700/938-->loss:-3.9073\n",
      "batch:800/938-->loss:-4.2149\n",
      "batch:900/938-->loss:-3.8967\n",
      "epoch:3_acc:54.41%\n",
      "epoch:4/15\n",
      "batch:100/938-->loss:-3.6172\n",
      "batch:200/938-->loss:-3.7283\n",
      "batch:300/938-->loss:-4.0036\n",
      "batch:400/938-->loss:-4.3715\n",
      "batch:500/938-->loss:-4.4530\n",
      "batch:600/938-->loss:-4.5224\n",
      "batch:700/938-->loss:-4.5374\n",
      "batch:800/938-->loss:-4.5745\n",
      "batch:900/938-->loss:-5.2001\n",
      "epoch:4_acc:54.75%\n",
      "epoch:5/15\n",
      "batch:100/938-->loss:-5.0291\n",
      "batch:200/938-->loss:-5.0958\n",
      "batch:300/938-->loss:-6.0320\n",
      "batch:400/938-->loss:-5.4359\n",
      "batch:500/938-->loss:-5.4098\n",
      "batch:600/938-->loss:-6.4618\n",
      "batch:700/938-->loss:-6.0474\n",
      "batch:800/938-->loss:-6.3334\n",
      "batch:900/938-->loss:-6.7720\n",
      "epoch:5_acc:54.23%\n",
      "epoch:6/15\n",
      "batch:100/938-->loss:-6.5472\n",
      "batch:200/938-->loss:-6.0005\n",
      "batch:300/938-->loss:-6.4822\n",
      "batch:400/938-->loss:-6.6597\n",
      "batch:500/938-->loss:-7.5232\n",
      "batch:600/938-->loss:-7.6310\n",
      "batch:700/938-->loss:-7.1554\n",
      "batch:800/938-->loss:-8.0420\n",
      "batch:900/938-->loss:-8.2443\n",
      "epoch:6_acc:55.74%\n",
      "epoch:7/15\n",
      "batch:100/938-->loss:-8.3870\n",
      "batch:200/938-->loss:-7.9720\n",
      "batch:300/938-->loss:-7.0729\n",
      "batch:400/938-->loss:-7.2293\n",
      "batch:500/938-->loss:-8.5021\n",
      "batch:600/938-->loss:-8.6239\n",
      "batch:700/938-->loss:-8.9444\n",
      "batch:800/938-->loss:-8.1995\n",
      "batch:900/938-->loss:-9.3576\n",
      "epoch:7_acc:56.85%\n",
      "epoch:8/15\n",
      "batch:100/938-->loss:-9.7401\n",
      "batch:200/938-->loss:-9.3936\n",
      "batch:300/938-->loss:-9.6621\n",
      "batch:400/938-->loss:-9.0309\n",
      "batch:500/938-->loss:-8.8138\n",
      "batch:600/938-->loss:-8.3361\n",
      "batch:700/938-->loss:-9.3761\n",
      "batch:800/938-->loss:-10.0134\n",
      "batch:900/938-->loss:-11.1139\n",
      "epoch:8_acc:55.97%\n",
      "epoch:9/15\n",
      "batch:100/938-->loss:-8.9036\n",
      "batch:200/938-->loss:-10.7360\n",
      "batch:300/938-->loss:-10.6768\n",
      "batch:400/938-->loss:-10.1047\n",
      "batch:500/938-->loss:-10.8381\n",
      "batch:600/938-->loss:-10.5898\n",
      "batch:700/938-->loss:-12.0931\n",
      "batch:800/938-->loss:-12.7978\n",
      "batch:900/938-->loss:-12.2308\n",
      "epoch:9_acc:56.17%\n",
      "epoch:10/15\n",
      "batch:100/938-->loss:-12.1102\n",
      "batch:200/938-->loss:-11.1691\n",
      "batch:300/938-->loss:-12.2645\n",
      "batch:400/938-->loss:-11.3279\n",
      "batch:500/938-->loss:-12.4647\n",
      "batch:600/938-->loss:-12.0665\n",
      "batch:700/938-->loss:-14.0446\n",
      "batch:800/938-->loss:-13.3779\n",
      "batch:900/938-->loss:-12.9258\n",
      "epoch:10_acc:55.62%\n",
      "epoch:11/15\n",
      "batch:100/938-->loss:-13.8097\n",
      "batch:200/938-->loss:-13.1188\n",
      "batch:300/938-->loss:-12.7589\n",
      "batch:400/938-->loss:-15.6497\n",
      "batch:500/938-->loss:-14.7571\n",
      "batch:600/938-->loss:-15.2828\n",
      "batch:700/938-->loss:-15.3663\n",
      "batch:800/938-->loss:-14.1250\n",
      "batch:900/938-->loss:-15.2208\n",
      "epoch:11_acc:55.59%\n",
      "epoch:12/15\n",
      "batch:100/938-->loss:-16.2332\n",
      "batch:200/938-->loss:-15.1899\n",
      "batch:300/938-->loss:-15.7660\n",
      "batch:400/938-->loss:-16.0199\n",
      "batch:500/938-->loss:-12.1445\n",
      "batch:600/938-->loss:-17.1575\n",
      "batch:700/938-->loss:-13.9983\n",
      "batch:800/938-->loss:-16.5680\n",
      "batch:900/938-->loss:-17.6764\n",
      "epoch:12_acc:55.99%\n",
      "epoch:13/15\n",
      "batch:100/938-->loss:-15.3796\n",
      "batch:200/938-->loss:-18.1013\n",
      "batch:300/938-->loss:-18.7212\n",
      "batch:400/938-->loss:-16.4927\n",
      "batch:500/938-->loss:-18.5215\n",
      "batch:600/938-->loss:-19.1985\n",
      "batch:700/938-->loss:-18.7858\n",
      "batch:800/938-->loss:-17.8743\n",
      "batch:900/938-->loss:-16.9697\n",
      "epoch:13_acc:55.77%\n",
      "epoch:14/15\n",
      "batch:100/938-->loss:-17.8792\n",
      "batch:200/938-->loss:-18.7963\n",
      "batch:300/938-->loss:-18.8105\n",
      "batch:400/938-->loss:-19.1423\n",
      "batch:500/938-->loss:-19.5557\n",
      "batch:600/938-->loss:-19.4470\n",
      "batch:700/938-->loss:-21.4590\n",
      "batch:800/938-->loss:-18.4181\n",
      "batch:900/938-->loss:-19.1141\n",
      "epoch:14_acc:55.56%\n"
     ]
    }
   ],
   "source": [
    "device = torch.device(\"cuda\" if torch.cuda.is_available() else \"cpu\")\n",
    "print(\"device:\",device)\n",
    "dn=DenseNet().to(device)\n",
    "loss_function=nn.NLLLoss()\n",
    "learning_rate=1e-4\n",
    "optimizer=torch.optim.SGD(dn.parameters(),lr=learning_rate)\n",
    "# optimizer=torch.optim.Adam(anM.parameters(),lr=learning_rate)\n",
    "\n",
    "def dntrain(epochs=10,model=dn,optimizer=optimizer,loss_fn=loss_function,trainSet=train_loader_FM_96,testSet=test_loader_FM_96):\n",
    "    lossList=[]\n",
    "    testAcc=[]\n",
    "    for epoch in range(epochs):\n",
    "        lossSum=0.0\n",
    "        print(\"epoch:{:d}/{:d}\".format(epoch,epochs))\n",
    "        model.train()\n",
    "        for idx,(img,label) in enumerate(trainSet):\n",
    "            img=img.to(device)\n",
    "            label=label.to(device)\n",
    "            optimizer.zero_grad()\n",
    "            out=model(img)\n",
    "            loss=loss_fn(out,label)\n",
    "            loss.backward()\n",
    "            optimizer.step()\n",
    "            lossSum+=loss.item()\n",
    "            if (idx+1)%100==0:\n",
    "                print(\"batch:{:d}/{:d}-->loss:{:.4f}\".format(idx+1,len(trainSet),loss.item()))\n",
    "#       Do not enable batchnormalization and dropout to ensure that BN and dropout do not change\n",
    "        model.eval()\n",
    "        accNum=0\n",
    "        testNum=0\n",
    "        with torch.no_grad():\n",
    "            for idx,(img,label) in enumerate(testSet):\n",
    "                testNum+=label.shape[0]\n",
    "                img=img.to(device)\n",
    "                label=label.to(device)\n",
    "                out=model(img)\n",
    "                preds=out.argmax(dim=1)\n",
    "                accNum+=int((preds==label).sum())\n",
    "            testAcc.append(accNum/testNum)\n",
    "        print(\"epoch:{:d}_acc:{:.2%}\".format(epoch,testAcc[-1]))\n",
    "        \n",
    "dntrain(15,dn,optimizer,loss_function,train_loader_FM_96,test_loader_FM_96)"
   ]
  }
 ],
 "metadata": {
  "kernelspec": {
   "display_name": "Python 3 (ipykernel)",
   "language": "python",
   "name": "python3"
  },
  "language_info": {
   "codemirror_mode": {
    "name": "ipython",
    "version": 3
   },
   "file_extension": ".py",
   "mimetype": "text/x-python",
   "name": "python",
   "nbconvert_exporter": "python",
   "pygments_lexer": "ipython3",
   "version": "3.9.5"
  }
 },
 "nbformat": 4,
 "nbformat_minor": 5
}
